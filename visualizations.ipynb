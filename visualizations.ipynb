{
 "cells": [
  {
   "cell_type": "markdown",
   "metadata": {},
   "source": [
    "# Imports"
   ]
  },
  {
   "cell_type": "code",
   "execution_count": 4,
   "metadata": {},
   "outputs": [],
   "source": [
    "import pandas as pd\n",
    "from wordcloud import WordCloud\n",
    "import matplotlib.pyplot as plt"
   ]
  },
  {
   "cell_type": "markdown",
   "metadata": {},
   "source": [
    "# Carregar dados"
   ]
  },
  {
   "cell_type": "code",
   "execution_count": 5,
   "metadata": {},
   "outputs": [
    {
     "data": {
      "text/html": [
       "<div>\n",
       "<style scoped>\n",
       "    .dataframe tbody tr th:only-of-type {\n",
       "        vertical-align: middle;\n",
       "    }\n",
       "\n",
       "    .dataframe tbody tr th {\n",
       "        vertical-align: top;\n",
       "    }\n",
       "\n",
       "    .dataframe thead th {\n",
       "        text-align: right;\n",
       "    }\n",
       "</style>\n",
       "<table border=\"1\" class=\"dataframe\">\n",
       "  <thead>\n",
       "    <tr style=\"text-align: right;\">\n",
       "      <th></th>\n",
       "      <th>title</th>\n",
       "      <th>c1body</th>\n",
       "      <th>Topic</th>\n",
       "    </tr>\n",
       "  </thead>\n",
       "  <tbody>\n",
       "    <tr>\n",
       "      <th>0</th>\n",
       "      <td>How Does Your AD Password Policy Compare to NI...</td>\n",
       "      <td>End-user passwords are one of the weakest comp...</td>\n",
       "      <td>News</td>\n",
       "    </tr>\n",
       "    <tr>\n",
       "      <th>1</th>\n",
       "      <td>Hackers Using Fake Trump's Scandal Video to Sp...</td>\n",
       "      <td>Cybesecurity researchers today revealed a new ...</td>\n",
       "      <td>News</td>\n",
       "    </tr>\n",
       "    <tr>\n",
       "      <th>2</th>\n",
       "      <td>Russian Hacker Gets 12-Years Prison for Massiv...</td>\n",
       "      <td>A U.S. court on Thursday sentenced a 37-year-o...</td>\n",
       "      <td>News</td>\n",
       "    </tr>\n",
       "    <tr>\n",
       "      <th>3</th>\n",
       "      <td>Google Speech-to-Text API Can Help Attackers E...</td>\n",
       "      <td>A three-year-old attack technique to bypass Go...</td>\n",
       "      <td>News</td>\n",
       "    </tr>\n",
       "    <tr>\n",
       "      <th>4</th>\n",
       "      <td>Secret Backdoor Account Found in Several Zyxel...</td>\n",
       "      <td>Zyxel has released a patch to address a critic...</td>\n",
       "      <td>News</td>\n",
       "    </tr>\n",
       "    <tr>\n",
       "      <th>...</th>\n",
       "      <td>...</td>\n",
       "      <td>...</td>\n",
       "      <td>...</td>\n",
       "    </tr>\n",
       "    <tr>\n",
       "      <th>5866</th>\n",
       "      <td>LPT: It’s not that you “don’t like reading,” b...</td>\n",
       "      <td>I’ve met a lot of people who have said that th...</td>\n",
       "      <td>Entertainment</td>\n",
       "    </tr>\n",
       "    <tr>\n",
       "      <th>5867</th>\n",
       "      <td>LPT: If you want to sound smart, don't make up...</td>\n",
       "      <td>A lot of people think they have to know everyt...</td>\n",
       "      <td>Entertainment</td>\n",
       "    </tr>\n",
       "    <tr>\n",
       "      <th>5868</th>\n",
       "      <td>LPT: Don’t talk bad about your kids to other p...</td>\n",
       "      <td>Growing up I’d always overhear my mom complain...</td>\n",
       "      <td>Entertainment</td>\n",
       "    </tr>\n",
       "    <tr>\n",
       "      <th>5869</th>\n",
       "      <td>LPT: Don't take criticism from someone you wou...</td>\n",
       "      <td>[link] [comments]</td>\n",
       "      <td>Entertainment</td>\n",
       "    </tr>\n",
       "    <tr>\n",
       "      <th>5870</th>\n",
       "      <td>LPT: When you and another person are the last ...</td>\n",
       "      <td>[link] [comments]</td>\n",
       "      <td>Entertainment</td>\n",
       "    </tr>\n",
       "  </tbody>\n",
       "</table>\n",
       "<p>5871 rows × 3 columns</p>\n",
       "</div>"
      ],
      "text/plain": [
       "                                                  title  \\\n",
       "0     How Does Your AD Password Policy Compare to NI...   \n",
       "1     Hackers Using Fake Trump's Scandal Video to Sp...   \n",
       "2     Russian Hacker Gets 12-Years Prison for Massiv...   \n",
       "3     Google Speech-to-Text API Can Help Attackers E...   \n",
       "4     Secret Backdoor Account Found in Several Zyxel...   \n",
       "...                                                 ...   \n",
       "5866  LPT: It’s not that you “don’t like reading,” b...   \n",
       "5867  LPT: If you want to sound smart, don't make up...   \n",
       "5868  LPT: Don’t talk bad about your kids to other p...   \n",
       "5869  LPT: Don't take criticism from someone you wou...   \n",
       "5870  LPT: When you and another person are the last ...   \n",
       "\n",
       "                                                 c1body          Topic  \n",
       "0     End-user passwords are one of the weakest comp...           News  \n",
       "1     Cybesecurity researchers today revealed a new ...           News  \n",
       "2     A U.S. court on Thursday sentenced a 37-year-o...           News  \n",
       "3     A three-year-old attack technique to bypass Go...           News  \n",
       "4     Zyxel has released a patch to address a critic...           News  \n",
       "...                                                 ...            ...  \n",
       "5866  I’ve met a lot of people who have said that th...  Entertainment  \n",
       "5867  A lot of people think they have to know everyt...  Entertainment  \n",
       "5868  Growing up I’d always overhear my mom complain...  Entertainment  \n",
       "5869                                  [link] [comments]  Entertainment  \n",
       "5870                                  [link] [comments]  Entertainment  \n",
       "\n",
       "[5871 rows x 3 columns]"
      ]
     },
     "execution_count": 5,
     "metadata": {},
     "output_type": "execute_result"
    }
   ],
   "source": [
    "dataset = 'topic_classifier.csv'\n",
    "\n",
    "df_dados = pd.read_csv(dataset)\n",
    "df_dados.sample(frac=1)\n",
    "df_dados"
   ]
  },
  {
   "cell_type": "markdown",
   "metadata": {},
   "source": [
    "# Visualizações"
   ]
  },
  {
   "cell_type": "code",
   "execution_count": 37,
   "metadata": {},
   "outputs": [
    {
     "data": {
      "image/png": "[encoded data removed]",
      "text/plain": [
       "<Figure size 1440x576 with 1 Axes>"
      ]
     },
     "metadata": {
      "needs_background": "light"
     },
     "output_type": "display_data"
    }
   ],
   "source": [
    "topics = df_dados['Topic'].value_counts()\n",
    "plt.figure(figsize=(20, 8))\n",
    "plt.bar(topics.keys(), topics.values)\n",
    "plt.show()"
   ]
  }
 ],
 "metadata": {
  "interpreter": {
   "hash": "23b2f3c56d3ac635474ee06f9c1d0c9fb7b51561f37922b93e16638ee02283ca"
  },
  "kernelspec": {
   "display_name": "Python 3.8.0 ('ml')",
   "language": "python",
   "name": "python3"
  },
  "language_info": {
   "codemirror_mode": {
    "name": "ipython",
    "version": 3
   },
   "file_extension": ".py",
   "mimetype": "text/x-python",
   "name": "python",
   "nbconvert_exporter": "python",
   "pygments_lexer": "ipython3",
   "version": "3.8.0"
  },
  "orig_nbformat": 4
 },
 "nbformat": 4,
 "nbformat_minor": 2
}
