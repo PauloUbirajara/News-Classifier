{
  "cells": [
    {
      "cell_type": "code",
      "execution_count": 2,
      "metadata": {},
      "outputs": [
        {
          "name": "stderr",
          "output_type": "stream",
          "text": [
            "Intel(R) Extension for Scikit-learn* enabled (https://github.com/intel/scikit-learn-intelex)\n"
          ]
        }
      ],
      "source": [
        "# Otimizar sklearn\n",
        "from sklearnex import patch_sklearn\n",
        "patch_sklearn()"
      ]
    },
    {
      "cell_type": "markdown",
      "metadata": {
        "id": "pl0fUutZ-EZd"
      },
      "source": [
        "---\n"
      ]
    },
    {
      "cell_type": "markdown",
      "metadata": {
        "id": "MLH3Sl5iq72_"
      },
      "source": [
        "# Baixar dataset"
      ]
    },
    {
      "cell_type": "code",
      "execution_count": 3,
      "metadata": {
        "colab": {
          "base_uri": "https://localhost:8080/"
        },
        "id": "jiHMeuidmxRS",
        "outputId": "d21bcb43-f4a5-4aaa-a702-217c1404fc65"
      },
      "outputs": [],
      "source": [
        "# !pip install kaggle wordcloud nltk\n",
        "# !echo '{\"username\":\"pauloubirajara\",\"key\":\"4a5d061c2eade0bf96665e1fb7a8fd28\"}' > /root/.kaggle/kaggle.json\n",
        "# !sleep 3\n",
        "# !chmod 600 /root/.kaggle/kaggle.json\n",
        "# !kaggle datasets download -d brobear1995/rss-feed-topic-classifier --force\n",
        "# !unzip -o -u rss-feed-topic-classifier.zip"
      ]
    },
    {
      "cell_type": "markdown",
      "metadata": {
        "id": "pl0fUutZ-EZd"
      },
      "source": [
        "---\n"
      ]
    },
    {
      "cell_type": "markdown",
      "metadata": {
        "id": "NLRC8KTYt0Nq"
      },
      "source": [
        "# Imports"
      ]
    },
    {
      "cell_type": "code",
      "execution_count": 4,
      "metadata": {
        "colab": {
          "base_uri": "https://localhost:8080/"
        },
        "id": "6jxxn-1DyqL4",
        "outputId": "be7ed634-fe76-4a89-e1e6-27b13b48a905"
      },
      "outputs": [
        {
          "name": "stderr",
          "output_type": "stream",
          "text": [
            "[nltk_data] Downloading package stopwords to\n",
            "[nltk_data]     C:\\Users\\Paulo\\AppData\\Roaming\\nltk_data...\n",
            "[nltk_data]   Package stopwords is already up-to-date!\n",
            "[nltk_data] Downloading package punkt to\n",
            "[nltk_data]     C:\\Users\\Paulo\\AppData\\Roaming\\nltk_data...\n",
            "[nltk_data]   Package punkt is already up-to-date!\n"
          ]
        }
      ],
      "source": [
        "import pandas as pd\n",
        "import matplotlib.pyplot as plt\n",
        "import re\n",
        "\n",
        "from nltk import download\n",
        "from nltk.tokenize import word_tokenize\n",
        "\n",
        "# Filtrar stopwords\n",
        "from nltk.corpus import stopwords\n",
        "from string import punctuation\n",
        "download('stopwords')\n",
        "download('punkt')\n",
        "\n",
        "STOPWORDS = stopwords.words('english')\n",
        "STOPWORDS.extend(punctuation)\n",
        "# STOPWORDS.extend(['\\\\'])"
      ]
    },
    {
      "cell_type": "code",
      "execution_count": 5,
      "metadata": {
        "id": "a6SAYgA2kqjH"
      },
      "outputs": [],
      "source": [
        "# Obter uma representação vetorial a partir de um texto\n",
        "from sklearn.feature_extraction.text import TfidfVectorizer, CountVectorizer\n",
        "\n",
        "from sklearn.linear_model import LogisticRegression\n",
        "from sklearn.ensemble import RandomForestClassifier\n",
        "from sklearn.tree import DecisionTreeClassifier, plot_tree\n",
        "from sklearn.metrics import ConfusionMatrixDisplay, confusion_matrix, classification_report\n",
        "\n",
        "from sklearn.model_selection import cross_val_score, cross_val_predict\n",
        "\n",
        "# Balancear dados\n",
        "from imblearn.over_sampling import SMOTE"
      ]
    },
    {
      "cell_type": "markdown",
      "metadata": {
        "id": "pl0fUutZ-EZd"
      },
      "source": [
        "---\n"
      ]
    },
    {
      "cell_type": "markdown",
      "metadata": {
        "id": "oF6z0qdTy2LH"
      },
      "source": [
        "# Carregar dados"
      ]
    },
    {
      "cell_type": "code",
      "execution_count": 6,
      "metadata": {
        "colab": {
          "base_uri": "https://localhost:8080/",
          "height": 580
        },
        "id": "Fzt1ajoDy1mB",
        "outputId": "df977596-9fa1-447c-bcb2-36dc6b9452f3"
      },
      "outputs": [
        {
          "name": "stdout",
          "output_type": "stream",
          "text": [
            "Entertainment           2028\n",
            "News                    1106\n",
            "Sprituality              678\n",
            "Machine Learning         663\n",
            "Software Development     580\n",
            "Independence             392\n",
            "Science                  318\n",
            "Wellness                 106\n",
            "Name: Topic, dtype: int64\n"
          ]
        },
        {
          "data": {
            "text/html": [
              "<div>\n",
              "<style scoped>\n",
              "    .dataframe tbody tr th:only-of-type {\n",
              "        vertical-align: middle;\n",
              "    }\n",
              "\n",
              "    .dataframe tbody tr th {\n",
              "        vertical-align: top;\n",
              "    }\n",
              "\n",
              "    .dataframe thead th {\n",
              "        text-align: right;\n",
              "    }\n",
              "</style>\n",
              "<table border=\"1\" class=\"dataframe\">\n",
              "  <thead>\n",
              "    <tr style=\"text-align: right;\">\n",
              "      <th></th>\n",
              "      <th>title</th>\n",
              "      <th>c1body</th>\n",
              "      <th>Topic</th>\n",
              "    </tr>\n",
              "  </thead>\n",
              "  <tbody>\n",
              "    <tr>\n",
              "      <th>280</th>\n",
              "      <td>R to @narendramodi: Makar Sankranti is marked ...</td>\n",
              "      <td>Makar Sankranti is marked with enthusiasm in s...</td>\n",
              "      <td>News</td>\n",
              "    </tr>\n",
              "    <tr>\n",
              "      <th>3306</th>\n",
              "      <td>Tim Berners Lee wants to put you in a pod, a w...</td>\n",
              "      <td>You can find out more about Sir Berners-Lee's ...</td>\n",
              "      <td>Software Development</td>\n",
              "    </tr>\n",
              "    <tr>\n",
              "      <th>1351</th>\n",
              "      <td>Underspecification Presents Challenges for Cre...</td>\n",
              "      <td>#ai #research #machinelearning Deep Learning m...</td>\n",
              "      <td>Machine Learning</td>\n",
              "    </tr>\n",
              "    <tr>\n",
              "      <th>1554</th>\n",
              "      <td>#94 – Ilya Sutskever: Deep Learning</td>\n",
              "      <td>Ilya Sutskever is the co-founder of OpenAI, is...</td>\n",
              "      <td>Machine Learning</td>\n",
              "    </tr>\n",
              "    <tr>\n",
              "      <th>3361</th>\n",
              "      <td>Stack Exchange Podcast #71 - A Bunch of Bald Yaks</td>\n",
              "      <td>Stack Exchange Podcast #71 - A Bunch of Bald Y...</td>\n",
              "      <td>Software Development</td>\n",
              "    </tr>\n",
              "    <tr>\n",
              "      <th>...</th>\n",
              "      <td>...</td>\n",
              "      <td>...</td>\n",
              "      <td>...</td>\n",
              "    </tr>\n",
              "    <tr>\n",
              "      <th>1044</th>\n",
              "      <td>How One Supernova Measured The Universe</td>\n",
              "      <td>In 2015 astronomers successfully predicted the...</td>\n",
              "      <td>Science</td>\n",
              "    </tr>\n",
              "    <tr>\n",
              "      <th>5358</th>\n",
              "      <td>The beautiful Lake Tahoe</td>\n",
              "      <td>[link] [comments]</td>\n",
              "      <td>Entertainment</td>\n",
              "    </tr>\n",
              "    <tr>\n",
              "      <th>1546</th>\n",
              "      <td>#125 – Ryan Hall: Martial Arts and the Philoso...</td>\n",
              "      <td>Ryan Hall is a jiu jitsu black belt, UFC fight...</td>\n",
              "      <td>Machine Learning</td>\n",
              "    </tr>\n",
              "    <tr>\n",
              "      <th>4767</th>\n",
              "      <td>Care for those who care for you (credit: how.how)</td>\n",
              "      <td>[link] [comments]</td>\n",
              "      <td>Entertainment</td>\n",
              "    </tr>\n",
              "    <tr>\n",
              "      <th>1229</th>\n",
              "      <td>Decision Trees in Python from Start to Finish</td>\n",
              "      <td>NOTE: You can support StatQuest by purchasing ...</td>\n",
              "      <td>Machine Learning</td>\n",
              "    </tr>\n",
              "  </tbody>\n",
              "</table>\n",
              "<p>5871 rows × 3 columns</p>\n",
              "</div>"
            ],
            "text/plain": [
              "                                                  title  \\\n",
              "280   R to @narendramodi: Makar Sankranti is marked ...   \n",
              "3306  Tim Berners Lee wants to put you in a pod, a w...   \n",
              "1351  Underspecification Presents Challenges for Cre...   \n",
              "1554                #94 – Ilya Sutskever: Deep Learning   \n",
              "3361  Stack Exchange Podcast #71 - A Bunch of Bald Yaks   \n",
              "...                                                 ...   \n",
              "1044            How One Supernova Measured The Universe   \n",
              "5358                           The beautiful Lake Tahoe   \n",
              "1546  #125 – Ryan Hall: Martial Arts and the Philoso...   \n",
              "4767  Care for those who care for you (credit: how.how)   \n",
              "1229      Decision Trees in Python from Start to Finish   \n",
              "\n",
              "                                                 c1body                 Topic  \n",
              "280   Makar Sankranti is marked with enthusiasm in s...                  News  \n",
              "3306  You can find out more about Sir Berners-Lee's ...  Software Development  \n",
              "1351  #ai #research #machinelearning Deep Learning m...      Machine Learning  \n",
              "1554  Ilya Sutskever is the co-founder of OpenAI, is...      Machine Learning  \n",
              "3361  Stack Exchange Podcast #71 - A Bunch of Bald Y...  Software Development  \n",
              "...                                                 ...                   ...  \n",
              "1044  In 2015 astronomers successfully predicted the...               Science  \n",
              "5358                                  [link] [comments]         Entertainment  \n",
              "1546  Ryan Hall is a jiu jitsu black belt, UFC fight...      Machine Learning  \n",
              "4767                                  [link] [comments]         Entertainment  \n",
              "1229  NOTE: You can support StatQuest by purchasing ...      Machine Learning  \n",
              "\n",
              "[5871 rows x 3 columns]"
            ]
          },
          "execution_count": 6,
          "metadata": {},
          "output_type": "execute_result"
        }
      ],
      "source": [
        "df_dados = pd\\\n",
        "  .read_csv('topic_classifier.csv')\\\n",
        "  .astype('str')\\\n",
        "  .sample(frac=1)\n",
        "print(df_dados['Topic'].value_counts())\n",
        "df_dados"
      ]
    },
    {
      "cell_type": "code",
      "execution_count": 7,
      "metadata": {
        "id": "SfYo7lOK2MTQ"
      },
      "outputs": [],
      "source": [
        "entertainment = df_dados[df_dados['Topic'] == 'Entertainment'].sample(frac=1).iloc[:678]\n",
        "news = df_dados[df_dados['Topic'] == 'News'].sample(frac=1).iloc[:678]\n",
        "df_dados_2 = df_dados[df_dados['Topic'] != 'Entertainment']\n",
        "df_dados_2 = df_dados_2[df_dados_2['Topic'] != 'News']\n",
        "df_dados_2 = pd.concat([df_dados_2, news, entertainment])\n",
        "y_true = df_dados['Topic']\n",
        "X = df_dados.drop(columns=['Topic'])"
      ]
    },
    {
      "cell_type": "markdown",
      "metadata": {
        "id": "pl0fUutZ-EZd"
      },
      "source": [
        "---\n"
      ]
    },
    {
      "cell_type": "code",
      "execution_count": 8,
      "metadata": {
        "id": "t36g-UXnyo_N"
      },
      "outputs": [],
      "source": [
        "def TFIDF(corpus, as_frame=True):\n",
        "  vectorizer = TfidfVectorizer(\n",
        "    stop_words=STOPWORDS,\n",
        "    lowercase=True,\n",
        "    # max_features=10000,\n",
        "  )\n",
        "  # Colunas variam até 36351 features se não limitadas\n",
        "  tfidf = vectorizer.fit_transform(corpus)\n",
        "  \n",
        "  if as_frame:\n",
        "    try:\n",
        "      df_tfidf = pd.DataFrame.sparse.from_spmatrix(tfidf, columns=vectorizer.get_feature_names_out())\n",
        "    except:\n",
        "      df_tfidf = pd.DataFrame.sparse.from_spmatrix(tfidf, columns=vectorizer.get_feature_names())\n",
        "    return df_tfidf\n",
        "  \n",
        "  return tfidf"
      ]
    },
    {
      "cell_type": "code",
      "execution_count": 9,
      "metadata": {
        "id": "Jg84ZxeX9VKf"
      },
      "outputs": [],
      "source": [
        "def BAG_OF_WORDS(corpus, as_frame=True):\n",
        "  count_vectorizer = CountVectorizer(\n",
        "    lowercase=True, \n",
        "    # max_features=10000,\n",
        "    stop_words=STOPWORDS\n",
        "  )\n",
        "  bow = count_vectorizer.fit_transform(corpus)\n",
        "  \n",
        "  if as_frame:\n",
        "    try:\n",
        "      df_bow = pd.DataFrame.sparse.from_spmatrix(bow, columns=count_vectorizer.get_feature_names_out())\n",
        "    except:\n",
        "      df_bow = pd.DataFrame.sparse.from_spmatrix(bow, columns=count_vectorizer.get_feature_names())\n",
        "    \n",
        "    return df_bow\n",
        "  \n",
        "  return bow"
      ]
    },
    {
      "cell_type": "code",
      "execution_count": 10,
      "metadata": {
        "id": "eSCp4mxC-H_M"
      },
      "outputs": [],
      "source": [
        "# sm = SMOTE()\n",
        "\n",
        "# def get_smote_as_dataframe(features, target, representation_method):\n",
        "#   smote = sm.fit_resample(\n",
        "#     representation_method(features),\n",
        "#     target\n",
        "#   )\n",
        "#   # print(smote)\n",
        "#   # print(len(smote))\n",
        "#   return pd.concat([*smote], axis=1)"
      ]
    },
    {
      "cell_type": "code",
      "execution_count": 11,
      "metadata": {},
      "outputs": [],
      "source": [
        "def show_report(y_true, y_pred, labels):\n",
        "\tprint(classification_report(y_true, y_pred, target_names=labels))"
      ]
    },
    {
      "cell_type": "code",
      "execution_count": 12,
      "metadata": {
        "id": "Aob-e1fc-GOS"
      },
      "outputs": [],
      "source": [
        "def logistic_regression():\n",
        "  return LogisticRegression()\n",
        "  \n",
        "def random_forest():\n",
        "  return RandomForestClassifier()\n",
        "\n",
        "def decision_tree():\n",
        "  return DecisionTreeClassifier()"
      ]
    },
    {
      "cell_type": "markdown",
      "metadata": {
        "id": "pl0fUutZ-EZd"
      },
      "source": [
        "---\n"
      ]
    },
    {
      "cell_type": "code",
      "execution_count": 13,
      "metadata": {
        "colab": {
          "base_uri": "https://localhost:8080/"
        },
        "id": "uemuxhsSAOdw",
        "outputId": "deb80d20-1197-4853-8a92-3c6fece6e3c3"
      },
      "outputs": [],
      "source": [
        "# !lscpu | grep \"CPU(s)\""
      ]
    },
    {
      "cell_type": "code",
      "execution_count": 14,
      "metadata": {},
      "outputs": [],
      "source": [
        "features = TFIDF(X['title'] + X['c1body'])\n",
        "topics = sorted(y_true.unique())"
      ]
    },
    {
      "cell_type": "markdown",
      "metadata": {
        "id": "pl0fUutZ-EZd"
      },
      "source": [
        "---\n"
      ]
    },
    {
      "cell_type": "markdown",
      "metadata": {},
      "source": [
        "# Logistic Regression + TFIDF (Sem smote)"
      ]
    },
    {
      "cell_type": "code",
      "execution_count": null,
      "metadata": {
        "colab": {
          "base_uri": "https://localhost:8080/"
        },
        "id": "8wX5BW0j__J3",
        "outputId": "7e03e4e2-5371-4c2e-f371-0cfcae607a48"
      },
      "outputs": [],
      "source": [
        "scores = cross_val_score(logistic_regression(), features, y_true, cv=10, n_jobs=6)\n",
        "print(scores.mean())\n",
        "y_pred = cross_val_predict(logistic_regression(), features, y_true, cv=10, n_jobs=6)\n",
        "show_report(y_true, y_pred, topics)"
      ]
    },
    {
      "cell_type": "code",
      "execution_count": null,
      "metadata": {
        "id": "wcuXy07RFZoT"
      },
      "outputs": [],
      "source": [
        "for topic in topics:\n",
        "  print(f\"{topic} x Não {topic}\")\n",
        "  target = y_true.apply(lambda x: x if x == topic else f'Não {topic}')\n",
        "  scores = cross_val_score(logistic_regression(), features, target, cv=10, n_jobs = 6)\n",
        "  print(scores.mean())\n",
        "  y_pred = cross_val_predict(logistic_regression(), features, target, cv=10, n_jobs=6)\n",
        "  show_report(target, y_pred, [topic, f'Não {topic}'])\n",
        "  print()"
      ]
    },
    {
      "cell_type": "code",
      "execution_count": null,
      "metadata": {
        "id": "7Vaemjk_DTWb"
      },
      "outputs": [],
      "source": [
        "y_pred = cross_val_predict(logistic_regression(), features, y_true, cv=10, n_jobs=6)\n",
        "\n",
        "cm = confusion_matrix(y_true, y_pred)\n",
        "print(cm)\n",
        "f = ConfusionMatrixDisplay(\n",
        "\tcm,\n",
        "\tdisplay_labels=y_true.unique()\n",
        ")\n",
        "fig, ax = plt.subplots(figsize=(15, 15))\n",
        "f.plot(ax=ax, xticks_rotation='vertical')\n",
        "plt.title('Regressão Logística - TFIDF')\n",
        "plt.show()"
      ]
    },
    {
      "cell_type": "markdown",
      "metadata": {
        "id": "pl0fUutZ-EZd"
      },
      "source": [
        "---\n"
      ]
    },
    {
      "cell_type": "markdown",
      "metadata": {
        "id": "dmVZ7QKhCIJT"
      },
      "source": [
        "# Random Forest + TFIDF (Sem smote)"
      ]
    },
    {
      "cell_type": "code",
      "execution_count": 25,
      "metadata": {
        "colab": {
          "base_uri": "https://localhost:8080/"
        },
        "id": "8wX5BW0j__J3",
        "outputId": "7e03e4e2-5371-4c2e-f371-0cfcae607a48"
      },
      "outputs": [
        {
          "name": "stdout",
          "output_type": "stream",
          "text": [
            "0.8557368262466827\n",
            "                      precision    recall  f1-score   support\n",
            "\n",
            "       Entertainment       0.79      0.95      0.86      2028\n",
            "        Independence       0.87      0.72      0.79       392\n",
            "    Machine Learning       0.90      0.80      0.85       663\n",
            "                News       0.85      0.84      0.85      1106\n",
            "             Science       0.91      0.39      0.55       318\n",
            "Software Development       0.95      0.94      0.94       580\n",
            "         Sprituality       0.94      0.87      0.90       678\n",
            "            Wellness       1.00      0.74      0.85       106\n",
            "\n",
            "            accuracy                           0.85      5871\n",
            "           macro avg       0.90      0.78      0.82      5871\n",
            "        weighted avg       0.86      0.85      0.85      5871\n",
            "\n"
          ]
        }
      ],
      "source": [
        "scores = cross_val_score(random_forest(), features.values, y_true, cv=10, n_jobs=6)\n",
        "print(scores.mean())\n",
        "y_pred = cross_val_predict(random_forest(), features.values, y_true, cv=10, n_jobs=6)\n",
        "show_report(y_true, y_pred, topics)"
      ]
    },
    {
      "cell_type": "code",
      "execution_count": 29,
      "metadata": {
        "id": "wcuXy07RFZoT"
      },
      "outputs": [
        {
          "name": "stdout",
          "output_type": "stream",
          "text": [
            "Entertainment x Não Entertainment\n",
            "0.901041268296075\n",
            "                   precision    recall  f1-score   support\n",
            "\n",
            "    Entertainment       0.87      0.84      0.85      2028\n",
            "Não Entertainment       0.92      0.93      0.92      3843\n",
            "\n",
            "         accuracy                           0.90      5871\n",
            "        macro avg       0.89      0.89      0.89      5871\n",
            "     weighted avg       0.90      0.90      0.90      5871\n",
            "\n",
            "\n",
            "Independence x Não Independence\n",
            "0.95571625583794\n",
            "                  precision    recall  f1-score   support\n",
            "\n",
            "    Independence       0.98      0.33      0.50       392\n",
            "Não Independence       0.95      1.00      0.98      5479\n",
            "\n",
            "        accuracy                           0.96      5871\n",
            "       macro avg       0.97      0.67      0.74      5871\n",
            "    weighted avg       0.96      0.96      0.94      5871\n",
            "\n",
            "\n",
            "Machine Learning x Não Machine Learning\n",
            "0.9552040236878396\n",
            "                      precision    recall  f1-score   support\n",
            "\n",
            "    Machine Learning       0.99      0.61      0.76       663\n",
            "Não Machine Learning       0.95      1.00      0.98      5208\n",
            "\n",
            "            accuracy                           0.96      5871\n",
            "           macro avg       0.97      0.81      0.87      5871\n",
            "        weighted avg       0.96      0.96      0.95      5871\n",
            "\n",
            "\n",
            "News x Não News\n",
            "0.9243744857397814\n",
            "              precision    recall  f1-score   support\n",
            "\n",
            "        News       0.98      0.61      0.75      1106\n",
            "    Não News       0.92      1.00      0.96      4765\n",
            "\n",
            "    accuracy                           0.92      5871\n",
            "   macro avg       0.95      0.81      0.86      5871\n",
            "weighted avg       0.93      0.92      0.92      5871\n",
            "\n",
            "\n",
            "Science x Não Science\n",
            "0.9645716719396447\n",
            "              precision    recall  f1-score   support\n",
            "\n",
            "     Science       0.96      1.00      0.98      5553\n",
            " Não Science       1.00      0.33      0.49       318\n",
            "\n",
            "    accuracy                           0.96      5871\n",
            "   macro avg       0.98      0.66      0.74      5871\n",
            "weighted avg       0.96      0.96      0.95      5871\n",
            "\n",
            "\n",
            "Software Development x Não Software Development\n",
            "0.9819449756052336\n",
            "                          precision    recall  f1-score   support\n",
            "\n",
            "    Software Development       0.98      1.00      0.99      5291\n",
            "Não Software Development       1.00      0.83      0.90       580\n",
            "\n",
            "                accuracy                           0.98      5871\n",
            "               macro avg       0.99      0.91      0.95      5871\n",
            "            weighted avg       0.98      0.98      0.98      5871\n",
            "\n",
            "\n",
            "Sprituality x Não Sprituality\n",
            "0.9718967655205184\n",
            "                 precision    recall  f1-score   support\n",
            "\n",
            "    Sprituality       0.97      1.00      0.98      5193\n",
            "Não Sprituality       1.00      0.76      0.86       678\n",
            "\n",
            "       accuracy                           0.97      5871\n",
            "      macro avg       0.98      0.88      0.92      5871\n",
            "   weighted avg       0.97      0.97      0.97      5871\n",
            "\n",
            "\n",
            "Wellness x Não Wellness\n",
            "0.9942084159046922\n",
            "              precision    recall  f1-score   support\n",
            "\n",
            "    Wellness       0.99      1.00      1.00      5765\n",
            "Não Wellness       1.00      0.67      0.80       106\n",
            "\n",
            "    accuracy                           0.99      5871\n",
            "   macro avg       1.00      0.83      0.90      5871\n",
            "weighted avg       0.99      0.99      0.99      5871\n",
            "\n",
            "\n"
          ]
        }
      ],
      "source": [
        "for topic in topics:\n",
        "  print(f\"{topic} x Não {topic}\")\n",
        "  target = y_true.apply(lambda x: x if x == topic else f'Não {topic}')\n",
        "  scores = cross_val_score(random_forest(), features.values, target, cv=10, n_jobs = 6)\n",
        "  print(scores.mean())\n",
        "  y_pred = cross_val_predict(random_forest(), features.values, target, cv=10, n_jobs=6)\n",
        "  show_report(target, y_pred, [topic, f'Não {topic}'])\n",
        "  print()"
      ]
    },
    {
      "cell_type": "code",
      "execution_count": 26,
      "metadata": {
        "id": "7Vaemjk_DTWb"
      },
      "outputs": [
        {
          "name": "stdout",
          "output_type": "stream",
          "text": [
            "[[1935    7    6   65    2    2   11    0]\n",
            " [  81  281   13    7    3    4    3    0]\n",
            " [  56   26  530   31    3    8    9    0]\n",
            " [ 151    2    7  932    1    9    4    0]\n",
            " [ 144    7   20   13  124    3    7    0]\n",
            " [  11    0    9   13    2  543    2    0]\n",
            " [  71    0    1   14    2    1  589    0]\n",
            " [   2    0    1   20    0    1    4   78]]\n"
          ]
        },
        {
          "data": {
            "image/png": "[encoded data removed]",
            "text/plain": [
              "<Figure size 1080x1080 with 2 Axes>"
            ]
          },
          "metadata": {
            "needs_background": "light"
          },
          "output_type": "display_data"
        }
      ],
      "source": [
        "# y_pred = cross_val_predict(random_forest(), features.values, y_true, cv=10, n_jobs=6)\n",
        "\n",
        "cm = confusion_matrix(y_true, y_pred)\n",
        "print(cm)\n",
        "f = ConfusionMatrixDisplay(\n",
        "\tcm,\n",
        "\tdisplay_labels=y_true.unique()\n",
        ")\n",
        "fig, ax = plt.subplots(figsize=(15, 15))\n",
        "f.plot(ax=ax, xticks_rotation='vertical')\n",
        "plt.title('Random Forest - TFIDF')\n",
        "plt.show()"
      ]
    },
    {
      "cell_type": "markdown",
      "metadata": {
        "id": "pl0fUutZ-EZd"
      },
      "source": [
        "---\n"
      ]
    },
    {
      "cell_type": "markdown",
      "metadata": {
        "id": "m1mGQHkZCNqk"
      },
      "source": [
        "# Decision Tree + TFIDF (Sem smote)"
      ]
    },
    {
      "cell_type": "code",
      "execution_count": 21,
      "metadata": {
        "colab": {
          "base_uri": "https://localhost:8080/"
        },
        "id": "8wX5BW0j__J3",
        "outputId": "7e03e4e2-5371-4c2e-f371-0cfcae607a48"
      },
      "outputs": [
        {
          "name": "stdout",
          "output_type": "stream",
          "text": [
            "0.7988463187660072\n",
            "                      precision    recall  f1-score   support\n",
            "\n",
            "       Entertainment       0.83      0.89      0.86      2028\n",
            "        Independence       0.71      0.71      0.71       392\n",
            "    Machine Learning       0.74      0.69      0.71       663\n",
            "                News       0.81      0.82      0.82      1106\n",
            "             Science       0.50      0.38      0.43       318\n",
            "Software Development       0.86      0.83      0.85       580\n",
            "         Sprituality       0.84      0.82      0.83       678\n",
            "            Wellness       0.80      0.70      0.74       106\n",
            "\n",
            "            accuracy                           0.80      5871\n",
            "           macro avg       0.76      0.73      0.74      5871\n",
            "        weighted avg       0.79      0.80      0.79      5871\n",
            "\n"
          ]
        }
      ],
      "source": [
        "scores = cross_val_score(decision_tree(), features, y_true, cv=10, n_jobs=6)\n",
        "print(scores.mean())\n",
        "y_pred = cross_val_predict(decision_tree(), features, y_true, cv=10, n_jobs=6)\n",
        "show_report(y_true, y_pred, topics)"
      ]
    },
    {
      "cell_type": "code",
      "execution_count": null,
      "metadata": {
        "id": "wcuXy07RFZoT"
      },
      "outputs": [],
      "source": [
        "for topic in topics:\n",
        "  print(f\"{topic} x Não {topic}\")\n",
        "  target = y_true.apply(lambda x: x if x == topic else f'Não {topic}')\n",
        "  scores = cross_val_score(decision_tree(), features, target, cv=10, n_jobs = 6)\n",
        "  print(scores.mean())\n",
        "  y_pred = cross_val_predict(decision_tree(), features, target, cv=10, n_jobs=6)\n",
        "  show_report(target, y_pred, [topic, f'Não {topic}'])\n",
        "  print()"
      ]
    },
    {
      "cell_type": "code",
      "execution_count": 22,
      "metadata": {
        "id": "7Vaemjk_DTWb"
      },
      "outputs": [
        {
          "name": "stdout",
          "output_type": "stream",
          "text": [
            "[[1803   37   34   80   40   11   22    1]\n",
            " [  49  280   22   20   14    6    1    0]\n",
            " [  34   50  458   41   21   27   26    6]\n",
            " [ 113    9   21  910   19   13   19    2]\n",
            " [ 107   15   29   18  121    9   17    2]\n",
            " [  13    1   34   19    9  484   16    4]\n",
            " [  45    2   22   27   14    8  556    4]\n",
            " [   3    0    3   11    4    6    5   74]]\n"
          ]
        },
        {
          "data": {
            "image/png": "[encoded data removed]",
            "text/plain": [
              "<Figure size 1080x1080 with 2 Axes>"
            ]
          },
          "metadata": {
            "needs_background": "light"
          },
          "output_type": "display_data"
        }
      ],
      "source": [
        "# y_pred = cross_val_predict(decision_tree(), features, y_true, cv=10, n_jobs=6)\n",
        "\n",
        "cm = confusion_matrix(y_true, y_pred)\n",
        "print(cm)\n",
        "f = ConfusionMatrixDisplay(\n",
        "\tcm,\n",
        "\tdisplay_labels=y_true.unique()\n",
        ")\n",
        "fig, ax = plt.subplots(figsize=(15, 15))\n",
        "f.plot(ax=ax, xticks_rotation='vertical')\n",
        "plt.title('Decision Tree - TFIDF')\n",
        "plt.show()"
      ]
    },
    {
      "cell_type": "markdown",
      "metadata": {
        "id": "MFvuDXEWAvqL"
      },
      "source": [
        "------\n",
        "# Resultados"
      ]
    },
    {
      "cell_type": "markdown",
      "metadata": {
        "id": "eZRPPmksAzbR"
      },
      "source": [
        "| Representação Vetorial | Modelo | Score |\n",
        "| --- | --- | --- |\n",
        "| TFIDF (Sem smote) | Logistic Regression | 82.54 % |\n",
        "| TFIDF (Sem smote) | Random Forest | 85.36 % |\n",
        "| TFIDF (Sem smote) | Decision Tree | 79.88 % |\n",
        "| \n",
        "| TFIDF (Com smote) | Logistic Regression | |\n",
        "| TFIDF (Com smote) | Random Forest | |\n",
        "| TFIDF (Com smote) | Decision Tree | |\n"
      ]
    },
    {
      "cell_type": "markdown",
      "metadata": {
        "id": "5RPgQwZEBZyY"
      },
      "source": [
        "| Representação Vetorial | Modelo | Score |\n",
        "| --- | --- | --- |\n",
        "| BOW (Sem smote) | Logistic Regression | |\n",
        "| BOW (Sem smote) | Random Forest | |\n",
        "| BOW (Sem smote) | Decision Tree | |\n",
        "| |\n",
        "| BOW (Com smote) | Logistic Regression | |\n",
        "| BOW (Com smote) | Random Forest | |\n",
        "| BOW (Com smote) | Decision Tree | |\n"
      ]
    },
    {
      "cell_type": "markdown",
      "metadata": {
        "id": "B9ux70gBKgvE"
      },
      "source": [
        "---\n",
        "# Resultados rodando um tópico por vez"
      ]
    },
    {
      "cell_type": "markdown",
      "metadata": {},
      "source": [
        "# Logistic Regression (Sem SMOTE)"
      ]
    },
    {
      "cell_type": "markdown",
      "metadata": {
        "id": "ry5qLb_bKnqG"
      },
      "source": [
        "## Geral\n",
        "### 82.54 %\n",
        "\n",
        "|                Topic      | precision   | recall | f1-score  | support |\n",
        "|                ---      | ---   | --- | ---  | --- |\n",
        "|        Entertainment      | 0.75     | 0.97     | 0.85     | 2028 |\n",
        "|         Independence      | 0.92     | 0.62     | 0.74      | 392 |\n",
        "|     Machine Learning      | 0.91     | 0.79     | 0.85      | 663 |\n",
        "|                 News      | 0.79     | 0.81     | 0.80     | 1106 |\n",
        "|              Science      | 0.96     | 0.34     | 0.50      | 318 |\n",
        "| Software Development      | 0.98     | 0.88     | 0.93      | 580 |\n",
        "|          Sprituality      | 0.96     | 0.77     | 0.85      | 678 |\n",
        "|             Wellness      | 1.00     | 0.66     | 0.80      | 106 |\n"
      ]
    },
    {
      "cell_type": "markdown",
      "metadata": {},
      "source": [
        "            accuracy                           0.83      5871 \n",
        "           macro avg       0.91      0.73      0.79      5871 \n",
        "        weighted avg       0.85      0.83      0.82      5871 "
      ]
    },
    {
      "cell_type": "markdown",
      "metadata": {},
      "source": [
        "## Entertainment x Não Entertainment\n",
        "### 89.79 %\n",
        "\n",
        "| Topic | precision   | recall | f1-score  | support |\n",
        "| --- | --- | ---  | --- |--- |\n",
        "|     Entertainment      | 0.89     | 0.81     | 0.85     | 2028 |\n",
        "| Não Entertainment      | 0.90     | 0.95     | 0.92     | 3843 |"
      ]
    },
    {
      "cell_type": "markdown",
      "metadata": {},
      "source": [
        "         accuracy                            0.90      5871 \n",
        "        macro avg        0.90      0.88      0.88      5871   \n",
        "     weighted avg        0.90      0.90      0.90      5871 "
      ]
    },
    {
      "cell_type": "markdown",
      "metadata": {},
      "source": [
        "## Independence x Não Independence\n",
        "### 94.82 %\n",
        "\n",
        "|  Topic                 | precision   | recall | f1-score  | support |\n",
        "| ---                  | ---   | --- | -------  | --- |\n",
        "|     Independence      | 0.93     | 0.24     | 0.38      | 392 |\n",
        "| Não Independence      | 0.95     | 1.00     | 0.97     | 5479 |"
      ]
    },
    {
      "cell_type": "markdown",
      "metadata": {},
      "source": [
        "        accuracy                           0.95      5871 \n",
        "       macro avg       0.94      0.62      0.68      5871 \n",
        "    weighted avg       0.95      0.95      0.93      5871 "
      ]
    },
    {
      "cell_type": "markdown",
      "metadata": {},
      "source": [
        "## Machine Learning x Não Machine Learning\n",
        "### 94.78 %\n",
        "\n",
        "| Topic | precision   | recall | f1-score  | support |\n",
        "|  ---                     | ---   | --- | -------  | --- |\n",
        "|     Machine Learning      | 0.99     | 0.55     | 0.70      | 663 |\n",
        "| Não Machine Learning      | 0.95     | 1.00     | 0.97     | 5208 |"
      ]
    },
    {
      "cell_type": "markdown",
      "metadata": {},
      "source": [
        "             accuracy                           0.95      5871 \n",
        "            macro avg       0.97      0.77      0.84      5871 \n",
        "         weighted avg       0.95      0.95      0.94      5871 "
      ]
    },
    {
      "cell_type": "markdown",
      "metadata": {},
      "source": [
        "## News x Não News\n",
        "### 88.82 %\n",
        "\n",
        "| Topic             | precision   | recall | f1-score  | support |\n",
        "| ---             | ---   | --- | -------  | --- |\n",
        "|         News      | 1.00     | 0.41     | 0.58     | 1106 |\n",
        "|     Não News      | 0.88     | 1.00     | 0.94     | 4765 |"
      ]
    },
    {
      "cell_type": "markdown",
      "metadata": {},
      "source": [
        "           accuracy                           0.89      5871\n",
        "          macro avg       0.94      0.70      0.76      5871\n",
        "       weighted avg       0.90      0.89      0.87      5871"
      ]
    },
    {
      "cell_type": "markdown",
      "metadata": {},
      "source": [
        "## Science x Não Science\n",
        "### 95.00 %\n",
        "\n",
        "| Topic             | precision   | recall | f1-score  | support |\n",
        "| ---             | ---   | --- | -------  | --- |\n",
        "|      Science      | 0.95     | 1.00     | 0.97     | 5553 |\n",
        "|  Não Science      | 1.00     | 0.08     | 0.15      | 318 |"
      ]
    },
    {
      "cell_type": "markdown",
      "metadata": {},
      "source": [
        "            accuracy                           0.95      5871\n",
        "           macro avg       0.97      0.54      0.56      5871\n",
        "        weighted avg       0.95      0.95      0.93      5871"
      ]
    },
    {
      "cell_type": "markdown",
      "metadata": {},
      "source": [
        "## Software Development x Não Software Development\n",
        "### 95.67 %\n",
        "\n",
        "| Topic                         | precision   | recall | f1-score  | support |\n",
        "| ---                         | ---   | --- | -------  | --- |\n",
        "|     Software Development      | 0.95     | 1.00     | 0.98     | 5291 |\n",
        "| Não Software Development      | 1.00     | 0.56     | 0.72      | 580 |"
      ]
    },
    {
      "cell_type": "markdown",
      "metadata": {},
      "source": [
        "                accuracy                           0.96      5871\n",
        "               macro avg       0.98      0.78      0.85      5871\n",
        "            weighted avg       0.96      0.96      0.95      5871"
      ]
    },
    {
      "cell_type": "markdown",
      "metadata": {},
      "source": [
        "## Sprituality x Não Sprituality\n",
        "### 94.07 %\n",
        "\n",
        "| Topic                | precision   | recall | f1-score  | support |\n",
        "| ---                | ---   | --- | -------  | --- |\n",
        "|     Sprituality      | 0.94     | 1.00     | 0.97     | 5193 |\n",
        "| Não Sprituality      | 0.99     | 0.49     | 0.66      | 678 |"
      ]
    },
    {
      "cell_type": "markdown",
      "metadata": {},
      "source": [
        "          accuracy                           0.94      5871\n",
        "         macro avg       0.96      0.75      0.81      5871\n",
        "      weighted avg       0.94      0.94      0.93      5871"
      ]
    },
    {
      "cell_type": "markdown",
      "metadata": {},
      "source": [
        "## Wellness x Não Wellness\n",
        "### 98.79 %\n",
        "\n",
        "| Topic             | precision   | recall | f1-score  | support |\n",
        "| ---             | ---   | --- | -------  | --- |\n",
        "|     Wellness      | 0.99     | 1.00     | 0.99     | 5765 |\n",
        "| Não Wellness      | 1.00     | 0.33     | 0.50      | 106 |"
      ]
    },
    {
      "cell_type": "markdown",
      "metadata": {},
      "source": [
        "            accuracy                           0.99      5871\n",
        "           macro avg       0.99      0.67      0.75      5871\n",
        "        weighted avg       0.99      0.99      0.98      5871"
      ]
    },
    {
      "cell_type": "markdown",
      "metadata": {},
      "source": [
        "# Random Forest (Sem SMOTE)"
      ]
    },
    {
      "cell_type": "markdown",
      "metadata": {},
      "source": [
        "## Geral\n",
        "### 85.57 %\n",
        "\n",
        "| Topic                     | precision   | recall | f1-score  | support |\n",
        "| ---                     | ---   | --- | -------  | --- |\n",
        "|        Entertainment      | 0.79     | 0.95     | 0.86     | 2028 |\n",
        "|         Independence      | 0.87     | 0.72     | 0.79      | 392 |\n",
        "|     Machine Learning      | 0.90     | 0.80     | 0.85      | 663 |\n",
        "|                 News      | 0.85     | 0.84     | 0.85     | 1106 |\n",
        "|              Science      | 0.91     | 0.39     | 0.55      | 318 |\n",
        "| Software Development      | 0.95     | 0.94     | 0.94      | 580 |\n",
        "|          Sprituality      | 0.94     | 0.87     | 0.90      | 678 |\n",
        "|             Wellness      | 1.00     | 0.74     | 0.85      | 106 |"
      ]
    },
    {
      "cell_type": "markdown",
      "metadata": {},
      "source": [
        "            accuracy                           0.85      5871\n",
        "           macro avg       0.90      0.78      0.82      5871\n",
        "        weighted avg       0.86      0.85      0.85      5871"
      ]
    },
    {
      "cell_type": "markdown",
      "metadata": {},
      "source": [
        "# Decision Tree (Sem SMOTE)"
      ]
    },
    {
      "cell_type": "markdown",
      "metadata": {},
      "source": [
        "## Geral\n",
        "### 79.88 % "
      ]
    },
    {
      "cell_type": "markdown",
      "metadata": {},
      "source": [
        "| Topic                 | precision   | recall | f1-score  | support |\n",
        "| ---                 | ---   | --- | -------  | --- |\n",
        "|        Entertainment      | 0.83     | 0.89     | 0.86     | 2028 |\n",
        "|         Independence      | 0.71     | 0.71     | 0.71      | 392 |\n",
        "|     Machine Learning      | 0.74     | 0.69     | 0.71      | 663 |\n",
        "|                 News      | 0.81     | 0.82     | 0.82     | 1106 |\n",
        "|              Science      | 0.50     | 0.38     | 0.43      | 318 |\n",
        "| Software Development      | 0.86     | 0.83     | 0.85      | 580 |\n",
        "|          Sprituality      | 0.84     | 0.82     | 0.83      | 678 |\n",
        "|             Wellness      | 0.80     | 0.70     | 0.74      | 106 |\n"
      ]
    },
    {
      "cell_type": "markdown",
      "metadata": {},
      "source": [
        "            accuracy                           0.80      5871\n",
        "           macro avg       0.76      0.73      0.74      5871\n",
        "        weighted avg       0.79      0.80      0.79      5871"
      ]
    }
  ],
  "metadata": {
    "colab": {
      "collapsed_sections": [],
      "name": "Atividade Carlos.ipynb",
      "provenance": []
    },
    "kernelspec": {
      "display_name": "Python 3",
      "name": "python3"
    },
    "language_info": {
      "codemirror_mode": {
        "name": "ipython",
        "version": 3
      },
      "file_extension": ".py",
      "mimetype": "text/x-python",
      "name": "python",
      "nbconvert_exporter": "python",
      "pygments_lexer": "ipython3",
      "version": "3.9.7"
    }
  },
  "nbformat": 4,
  "nbformat_minor": 0
}
