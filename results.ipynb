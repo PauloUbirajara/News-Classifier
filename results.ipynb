{
 "cells": [
  {
   "cell_type": "markdown",
   "metadata": {
    "id": "MFvuDXEWAvqL"
   },
   "source": [
    "------\n",
    "# Resultados"
   ]
  },
  {
   "cell_type": "markdown",
   "metadata": {
    "id": "eZRPPmksAzbR"
   },
   "source": [
    "| Representação Vetorial | Modelo | Score |\n",
    "| --- | --- | --- |\n",
    "| TFIDF (Sem smote) | Logistic Regression | 82.54 % |\n",
    "| TFIDF (Sem smote) | Random Forest | 85.36 % |\n",
    "| TFIDF (Sem smote) | Decision Tree | 79.88 % |\n",
    "| \n",
    "| TFIDF (Com smote) | Logistic Regression | |\n",
    "| TFIDF (Com smote) | Random Forest | |\n",
    "| TFIDF (Com smote) | Decision Tree | |\n"
   ]
  },
  {
   "cell_type": "markdown",
   "metadata": {
    "id": "5RPgQwZEBZyY"
   },
   "source": [
    "| Representação Vetorial | Modelo | Score |\n",
    "| --- | --- | --- |\n",
    "| BOW (Sem smote) | Logistic Regression | |\n",
    "| BOW (Sem smote) | Random Forest | |\n",
    "| BOW (Sem smote) | Decision Tree | |\n",
    "| |\n",
    "| BOW (Com smote) | Logistic Regression | |\n",
    "| BOW (Com smote) | Random Forest | |\n",
    "| BOW (Com smote) | Decision Tree | |\n"
   ]
  },
  {
   "cell_type": "markdown",
   "metadata": {
    "id": "B9ux70gBKgvE"
   },
   "source": [
    "---\n",
    "# Resultados rodando um tópico por vez"
   ]
  },
  {
   "cell_type": "markdown",
   "metadata": {},
   "source": [
    "# Logistic Regression (Sem SMOTE)"
   ]
  },
  {
   "cell_type": "markdown",
   "metadata": {
    "id": "ry5qLb_bKnqG"
   },
   "source": [
    "## Geral\n",
    "### 82.54 %\n",
    "\n",
    "|                Topic      | precision   | recall | f1-score  | support |\n",
    "|                ---      | ---   | --- | ---  | --- |\n",
    "|        Entertainment      | 0.75     | 0.97     | 0.85     | 2028 |\n",
    "|         Independence      | 0.92     | 0.62     | 0.74      | 392 |\n",
    "|     Machine Learning      | 0.91     | 0.79     | 0.85      | 663 |\n",
    "|                 News      | 0.79     | 0.81     | 0.80     | 1106 |\n",
    "|              Science      | 0.96     | 0.34     | 0.50      | 318 |\n",
    "| Software Development      | 0.98     | 0.88     | 0.93      | 580 |\n",
    "|          Sprituality      | 0.96     | 0.77     | 0.85      | 678 |\n",
    "|             Wellness      | 1.00     | 0.66     | 0.80      | 106 |\n",
    "\n",
    "            accuracy                           0.83      5871 \n",
    "           macro avg       0.91      0.73      0.79      5871 \n",
    "        weighted avg       0.85      0.83      0.82      5871 "
   ]
  },
  {
   "cell_type": "markdown",
   "metadata": {},
   "source": [
    "## Entertainment x Não Entertainment\n",
    "### 89.79 %\n",
    "\n",
    "| Topic | precision   | recall | f1-score  | support |\n",
    "| --- | --- | ---  | --- |--- |\n",
    "|     Entertainment      | 0.89     | 0.81     | 0.85     | 2028 |\n",
    "| Não Entertainment      | 0.90     | 0.95     | 0.92     | 3843 |\n",
    "\n",
    "         accuracy                            0.90      5871 \n",
    "        macro avg        0.90      0.88      0.88      5871   \n",
    "     weighted avg        0.90      0.90      0.90      5871 "
   ]
  },
  {
   "cell_type": "markdown",
   "metadata": {},
   "source": [
    "## Independence x Não Independence\n",
    "### 94.82 %\n",
    "\n",
    "|  Topic                 | precision   | recall | f1-score  | support |\n",
    "| ---                  | ---   | --- | -------  | --- |\n",
    "|     Independence      | 0.93     | 0.24     | 0.38      | 392 |\n",
    "| Não Independence      | 0.95     | 1.00     | 0.97     | 5479 |\n",
    "\n",
    "        accuracy                           0.95      5871 \n",
    "       macro avg       0.94      0.62      0.68      5871 \n",
    "    weighted avg       0.95      0.95      0.93      5871 "
   ]
  },
  {
   "cell_type": "markdown",
   "metadata": {},
   "source": [
    "## Machine Learning x Não Machine Learning\n",
    "### 94.78 %\n",
    "\n",
    "| Topic | precision   | recall | f1-score  | support |\n",
    "|  ---                     | ---   | --- | -------  | --- |\n",
    "|     Machine Learning      | 0.99     | 0.55     | 0.70      | 663 |\n",
    "| Não Machine Learning      | 0.95     | 1.00     | 0.97     | 5208 |\n",
    "\n",
    "             accuracy                           0.95      5871 \n",
    "            macro avg       0.97      0.77      0.84      5871 \n",
    "         weighted avg       0.95      0.95      0.94      5871 "
   ]
  },
  {
   "cell_type": "markdown",
   "metadata": {},
   "source": [
    "## News x Não News\n",
    "### 88.82 %\n",
    "\n",
    "| Topic             | precision   | recall | f1-score  | support |\n",
    "| ---             | ---   | --- | -------  | --- |\n",
    "|         News      | 1.00     | 0.41     | 0.58     | 1106 |\n",
    "|     Não News      | 0.88     | 1.00     | 0.94     | 4765 |\n",
    "\n",
    "           accuracy                           0.89      5871\n",
    "          macro avg       0.94      0.70      0.76      5871\n",
    "       weighted avg       0.90      0.89      0.87      5871"
   ]
  },
  {
   "cell_type": "markdown",
   "metadata": {},
   "source": [
    "## Science x Não Science\n",
    "### 95.00 %\n",
    "\n",
    "| Topic             | precision   | recall | f1-score  | support |\n",
    "| ---             | ---   | --- | -------  | --- |\n",
    "|      Science      | 0.95     | 1.00     | 0.97     | 5553 |\n",
    "|  Não Science      | 1.00     | 0.08     | 0.15      | 318 |\n",
    "\n",
    "            accuracy                           0.95      5871\n",
    "           macro avg       0.97      0.54      0.56      5871\n",
    "        weighted avg       0.95      0.95      0.93      5871"
   ]
  },
  {
   "cell_type": "markdown",
   "metadata": {},
   "source": [
    "## Software Development x Não Software Development\n",
    "### 95.67 %\n",
    "\n",
    "| Topic                         | precision   | recall | f1-score  | support |\n",
    "| ---                         | ---   | --- | -------  | --- |\n",
    "|     Software Development      | 0.95     | 1.00     | 0.98     | 5291 |\n",
    "| Não Software Development      | 1.00     | 0.56     | 0.72      | 580 |\n",
    "\n",
    "                accuracy                           0.96      5871\n",
    "               macro avg       0.98      0.78      0.85      5871\n",
    "            weighted avg       0.96      0.96      0.95      5871"
   ]
  },
  {
   "cell_type": "markdown",
   "metadata": {},
   "source": [
    "## Sprituality x Não Sprituality\n",
    "### 94.07 %\n",
    "\n",
    "| Topic                | precision   | recall | f1-score  | support |\n",
    "| ---                | ---   | --- | -------  | --- |\n",
    "|     Sprituality      | 0.94     | 1.00     | 0.97     | 5193 |\n",
    "| Não Sprituality      | 0.99     | 0.49     | 0.66      | 678 |\n",
    "\n",
    "          accuracy                           0.94      5871\n",
    "         macro avg       0.96      0.75      0.81      5871\n",
    "      weighted avg       0.94      0.94      0.93      5871"
   ]
  },
  {
   "cell_type": "markdown",
   "metadata": {},
   "source": [
    "## Wellness x Não Wellness\n",
    "### 98.79 %\n",
    "\n",
    "| Topic             | precision   | recall | f1-score  | support |\n",
    "| ---             | ---   | --- | -------  | --- |\n",
    "|     Wellness      | 0.99     | 1.00     | 0.99     | 5765 |\n",
    "| Não Wellness      | 1.00     | 0.33     | 0.50      | 106 |\n",
    "\n",
    "            accuracy                           0.99      5871\n",
    "           macro avg       0.99      0.67      0.75      5871\n",
    "        weighted avg       0.99      0.99      0.98      5871"
   ]
  },
  {
   "cell_type": "markdown",
   "metadata": {},
   "source": [
    "---"
   ]
  },
  {
   "cell_type": "markdown",
   "metadata": {},
   "source": [
    "# Random Forest (Sem SMOTE)"
   ]
  },
  {
   "cell_type": "markdown",
   "metadata": {},
   "source": [
    "## Geral\n",
    "### 85.57 %\n",
    "\n",
    "| Topic                     | precision   | recall | f1-score  | support |\n",
    "| ---                     | ---   | --- | -------  | --- |\n",
    "|        Entertainment      | 0.79     | 0.95     | 0.86     | 2028 |\n",
    "|         Independence      | 0.87     | 0.72     | 0.79      | 392 |\n",
    "|     Machine Learning      | 0.90     | 0.80     | 0.85      | 663 |\n",
    "|                 News      | 0.85     | 0.84     | 0.85     | 1106 |\n",
    "|              Science      | 0.91     | 0.39     | 0.55      | 318 |\n",
    "| Software Development      | 0.95     | 0.94     | 0.94      | 580 |\n",
    "|          Sprituality      | 0.94     | 0.87     | 0.90      | 678 |\n",
    "|             Wellness      | 1.00     | 0.74     | 0.85      | 106 |\n",
    "\n",
    "            accuracy                           0.85      5871\n",
    "           macro avg       0.90      0.78      0.82      5871\n",
    "        weighted avg       0.86      0.85      0.85      5871"
   ]
  },
  {
   "cell_type": "markdown",
   "metadata": {},
   "source": [
    "## Entertainment x Não Entertainment\n",
    "### 90.10 %\n",
    "\n",
    "| Topic                   precision |   recall | f1-score |  support |\n",
    "| ------ |   --- | ------- |  --- |\n",
    "|     Entertainment |      0.87 |     0.84 |     0.85 |      2028 |\n",
    "| Não Entertainment |      0.92 |     0.93 |     0.92  |    3843 |\n",
    "\n",
    "         accuracy                           0.90      5871\n",
    "        macro avg       0.89      0.89      0.89      5871\n",
    "     weighted avg       0.90      0.90      0.90      5871"
   ]
  },
  {
   "cell_type": "markdown",
   "metadata": {},
   "source": [
    "## Independence x Não Independence\n",
    "### 95.57 %\n",
    "\n",
    "| Topic                  | precision    | recall | f1-score  |  support |\n",
    "| ---                  | ---    | --- | -------  |  --- |\n",
    "|     Independence      | 0.98     | 0.33     | 0.50      | 392 |\n",
    "| Não Independence      | 0.95     | 1.00     | 0.98     | 5479|\n",
    "\n",
    "        accuracy                           0.96      5871\n",
    "       macro avg       0.97      0.67      0.74      5871\n",
    "    weighted avg       0.96      0.96      0.94      5871"
   ]
  },
  {
   "cell_type": "markdown",
   "metadata": {},
   "source": [
    "## Machine Learning x Não Machine Learning\n",
    "### 95.52 %\n",
    "\n",
    "| Topic                     | precision   | recall | f1-score  | support|\n",
    "| ---                     | ---   | --- | -------  | ---|\n",
    "|     Machine Learning      | 0.99     | 0.61     | 0.76      | 663|\n",
    "| Não Machine Learning      | 0.95     | 1.00     | 0.98     | 5208|\n",
    "\n",
    "            accuracy                           0.96      5871\n",
    "           macro avg       0.97      0.81      0.87      5871\n",
    "        weighted avg       0.96      0.96      0.95      5871"
   ]
  },
  {
   "cell_type": "markdown",
   "metadata": {},
   "source": [
    "## News x Não News\n",
    "### 92.43 %\n",
    "\n",
    "| Topic             | precision   | recall | f1-score  | support|\n",
    "| ---             | ---   | --- | -------  | ---|\n",
    "|         News      | 0.98     | 0.61     | 0.75     | 1106|\n",
    "|     Não News      | 0.92     | 1.00     | 0.96     | 4765|\n",
    "\n",
    "        accuracy                           0.92      5871\n",
    "       macro avg       0.95      0.81      0.86      5871\n",
    "    weighted avg       0.93      0.92      0.92      5871"
   ]
  },
  {
   "cell_type": "markdown",
   "metadata": {},
   "source": [
    "## Science x Não Science\n",
    "### 96.45 %\n",
    "\n",
    "| Topic             | precision   | recall | f1-score  | support|\n",
    "| ---             | ---   | --- | -------  | ---|\n",
    "|      Science      | 0.96     | 1.00     | 0.98     | 5553|\n",
    "|  Não Science      | 1.00     | 0.33     | 0.49      | 318|\n",
    "\n",
    "        accuracy                           0.96      5871\n",
    "       macro avg       0.98      0.66      0.74      5871\n",
    "    weighted avg       0.96      0.96      0.95      5871"
   ]
  },
  {
   "cell_type": "markdown",
   "metadata": {},
   "source": [
    "## Software Development x Não Software Development\n",
    "### 98.19 %\n",
    "\n",
    "| Topic                         | precision   | recall | f1-score  | support|\n",
    "| ---                         | ---   | --- | -------  | ---|\n",
    "|     Software Development      | 0.98     | 1.00     | 0.99     | 5291|\n",
    "| Não Software Development      | 1.00     | 0.83     | 0.90      | 580|\n",
    "\n",
    "                accuracy                           0.98      5871\n",
    "               macro avg       0.99      0.91      0.95      5871\n",
    "            weighted avg       0.98      0.98      0.98      5871"
   ]
  },
  {
   "cell_type": "markdown",
   "metadata": {},
   "source": [
    "## Sprituality x Não Sprituality\n",
    "### 97.18 %\n",
    "\n",
    "| Topic                | precision   | recall | f1-score  | support|\n",
    "| ---                | ---   | --- | -------  | ---|\n",
    "|     Sprituality      | 0.97     | 1.00     | 0.98     | 5193|\n",
    "| Não Sprituality      | 1.00     | 0.76     | 0.86      | 678|\n",
    "\n",
    "        accuracy                           0.97      5871\n",
    "       macro avg       0.98      0.88      0.92      5871\n",
    "    weighted avg       0.97      0.97      0.97      5871"
   ]
  },
  {
   "cell_type": "markdown",
   "metadata": {},
   "source": [
    "## Wellness x Não Wellness\n",
    "### 99.42 %\n",
    "\n",
    "| Topic             | precision   | recall | f1-score  | support|\n",
    "| ---             | ---   | --- | -------  | ---|\n",
    "|     Wellness      | 0.99     | 1.00     | 1.00     | 5765|\n",
    "| Não Wellness      | 1.00     | 0.67     | 0.80      | 106|\n",
    "\n",
    "        accuracy                           0.99      5871\n",
    "       macro avg       1.00      0.83      0.90      5871\n",
    "    weighted avg       0.99      0.99      0.99      5871"
   ]
  },
  {
   "cell_type": "markdown",
   "metadata": {},
   "source": [
    "---"
   ]
  },
  {
   "cell_type": "markdown",
   "metadata": {},
   "source": [
    "# Decision Tree (Sem SMOTE)"
   ]
  },
  {
   "cell_type": "markdown",
   "metadata": {},
   "source": [
    "## Geral\n",
    "### 79.88 % \n",
    "\n",
    "| Topic                 | precision   | recall | f1-score  | support |\n",
    "| ---                 | ---   | --- | -------  | --- |\n",
    "|        Entertainment      | 0.83     | 0.89     | 0.86     | 2028 |\n",
    "|         Independence      | 0.71     | 0.71     | 0.71      | 392 |\n",
    "|     Machine Learning      | 0.74     | 0.69     | 0.71      | 663 |\n",
    "|                 News      | 0.81     | 0.82     | 0.82     | 1106 |\n",
    "|              Science      | 0.50     | 0.38     | 0.43      | 318 |\n",
    "| Software Development      | 0.86     | 0.83     | 0.85      | 580 |\n",
    "|          Sprituality      | 0.84     | 0.82     | 0.83      | 678 |\n",
    "|             Wellness      | 0.80     | 0.70     | 0.74      | 106 |\n",
    "\n",
    "            accuracy                           0.80      5871\n",
    "           macro avg       0.76      0.73      0.74      5871\n",
    "        weighted avg       0.79      0.80      0.79      5871"
   ]
  }
 ],
 "metadata": {
  "kernelspec": {
   "display_name": "Python 3",
   "language": "python",
   "name": "python3"
  },
  "language_info": {
   "codemirror_mode": {
    "name": "ipython",
    "version": 2
   },
   "file_extension": ".py",
   "mimetype": "text/x-python",
   "name": "python",
   "nbconvert_exporter": "python",
   "pygments_lexer": "ipython2",
   "version": "3.9.7"
  }
 },
 "nbformat": 4,
 "nbformat_minor": 0
}
