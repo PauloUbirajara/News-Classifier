{
 "cells": [
  {
   "cell_type": "code",
   "execution_count": 13,
   "outputs": [
    {
     "name": "stderr",
     "output_type": "stream",
     "text": [
      "Intel(R) Extension for Scikit-learn* enabled (https://github.com/intel/scikit-learn-intelex)\n"
     ]
    }
   ],
   "source": [
    "# Otimizar sklearn\n",
    "from sklearnex import patch_sklearn\n",
    "patch_sklearn()"
   ],
   "metadata": {
    "collapsed": false,
    "pycharm": {
     "name": "#%%\n"
    }
   }
  },
  {
   "cell_type": "markdown",
   "metadata": {},
   "source": [
    "# Imports"
   ]
  },
  {
   "cell_type": "code",
   "execution_count": 14,
   "metadata": {},
   "outputs": [],
   "source": [
    "import pandas as pd\n",
    "\n",
    "import matplotlib.pyplot as plt\n",
    "\n",
    "# Modelos\n",
    "from sklearn.tree import DecisionTreeClassifier, plot_tree\n",
    "\n",
    "# Train/Test\n",
    "from sklearn.model_selection import cross_val_score, cross_val_predict\n",
    "\n",
    "# Matriz de confusão\n",
    "from sklearn.metrics import ConfusionMatrixDisplay, confusion_matrix"
   ]
  },
  {
   "cell_type": "markdown",
   "metadata": {
    "pycharm": {
     "name": "#%% md\n"
    }
   },
   "source": [
    "# Rodar modelos"
   ]
  },
  {
   "cell_type": "code",
   "execution_count": 15,
   "outputs": [],
   "source": [
    "colors = {\n",
    "    'Entertainment': 'red',\n",
    "    'Independence': 'orange',\n",
    "    'Machine Learning': 'green',\n",
    "    'News': 'blue',\n",
    "    'Science': 'purple',\n",
    "    'Software Development': 'brown',\n",
    "    'Sprituality': 'gray',\n",
    "    'Wellness': 'cyan'\n",
    "}\n"
   ],
   "metadata": {
    "collapsed": false,
    "pycharm": {
     "name": "#%%\n"
    }
   }
  },
  {
   "cell_type": "markdown",
   "source": [
    "## Decision Tree"
   ],
   "metadata": {
    "collapsed": false,
    "pycharm": {
     "name": "#%% md\n"
    }
   }
  },
  {
   "cell_type": "code",
   "execution_count": 16,
   "outputs": [],
   "source": [
    "def decision_tree():\n",
    "    return RandomForestClassifier()"
   ],
   "metadata": {
    "collapsed": false,
    "pycharm": {
     "name": "#%%\n"
    }
   }
  },
  {
   "cell_type": "markdown",
   "source": [
    "### BOW"
   ],
   "metadata": {
    "collapsed": false,
    "pycharm": {
     "name": "#%% md\n"
    }
   }
  },
  {
   "cell_type": "code",
   "execution_count": 17,
   "outputs": [
    {
     "data": {
      "text/plain": "       00  000  000000  0001  00029890  00072  001  0014  00152  00206  ...  \\\n1028  0.0  0.0     0.0   0.0       0.0    0.0  0.0   0.0    0.0    0.0  ...   \n1847  0.0  0.0     0.0   0.0       0.0    0.0  0.0   0.0    0.0    0.0  ...   \n2340  0.0  0.0     0.0   0.0       0.0    0.0  0.0   0.0    0.0    0.0  ...   \n5234  0.0  0.0     0.0   0.0       0.0    0.0  0.0   0.0    0.0    0.0  ...   \n3259  0.0  0.0     0.0   0.0       0.0    0.0  0.0   0.0    0.0    0.0  ...   \n\n       ఆయ   గభ   దర   రత   లన   షల  ﬁxed  𝙎𝙝𝙖𝙣𝙠𝙖𝙧𝙖𝙘𝙝𝙖𝙧𝙮𝙖  𝙏𝙚𝙢𝙥𝙡𝙚  \\\n1028  0.0  0.0  0.0  0.0  0.0  0.0   0.0             0.0     0.0   \n1847  0.0  0.0  0.0  0.0  0.0  0.0   0.0             0.0     0.0   \n2340  0.0  0.0  0.0  0.0  0.0  0.0   0.0             0.0     0.0   \n5234  0.0  0.0  0.0  0.0  0.0  0.0   0.0             0.0     0.0   \n3259  0.0  0.0  0.0  0.0  0.0  0.0   0.0             0.0     0.0   \n\n                     Topic  \n1028      Machine Learning  \n1847           Sprituality  \n2340  Software Development  \n5234              Wellness  \n3259                  News  \n\n[5 rows x 32327 columns]",
      "text/html": "<div>\n<style scoped>\n    .dataframe tbody tr th:only-of-type {\n        vertical-align: middle;\n    }\n\n    .dataframe tbody tr th {\n        vertical-align: top;\n    }\n\n    .dataframe thead th {\n        text-align: right;\n    }\n</style>\n<table border=\"1\" class=\"dataframe\">\n  <thead>\n    <tr style=\"text-align: right;\">\n      <th></th>\n      <th>00</th>\n      <th>000</th>\n      <th>000000</th>\n      <th>0001</th>\n      <th>00029890</th>\n      <th>00072</th>\n      <th>001</th>\n      <th>0014</th>\n      <th>00152</th>\n      <th>00206</th>\n      <th>...</th>\n      <th>ఆయ</th>\n      <th>గభ</th>\n      <th>దర</th>\n      <th>రత</th>\n      <th>లన</th>\n      <th>షల</th>\n      <th>ﬁxed</th>\n      <th>𝙎𝙝𝙖𝙣𝙠𝙖𝙧𝙖𝙘𝙝𝙖𝙧𝙮𝙖</th>\n      <th>𝙏𝙚𝙢𝙥𝙡𝙚</th>\n      <th>Topic</th>\n    </tr>\n  </thead>\n  <tbody>\n    <tr>\n      <th>1028</th>\n      <td>0.0</td>\n      <td>0.0</td>\n      <td>0.0</td>\n      <td>0.0</td>\n      <td>0.0</td>\n      <td>0.0</td>\n      <td>0.0</td>\n      <td>0.0</td>\n      <td>0.0</td>\n      <td>0.0</td>\n      <td>...</td>\n      <td>0.0</td>\n      <td>0.0</td>\n      <td>0.0</td>\n      <td>0.0</td>\n      <td>0.0</td>\n      <td>0.0</td>\n      <td>0.0</td>\n      <td>0.0</td>\n      <td>0.0</td>\n      <td>Machine Learning</td>\n    </tr>\n    <tr>\n      <th>1847</th>\n      <td>0.0</td>\n      <td>0.0</td>\n      <td>0.0</td>\n      <td>0.0</td>\n      <td>0.0</td>\n      <td>0.0</td>\n      <td>0.0</td>\n      <td>0.0</td>\n      <td>0.0</td>\n      <td>0.0</td>\n      <td>...</td>\n      <td>0.0</td>\n      <td>0.0</td>\n      <td>0.0</td>\n      <td>0.0</td>\n      <td>0.0</td>\n      <td>0.0</td>\n      <td>0.0</td>\n      <td>0.0</td>\n      <td>0.0</td>\n      <td>Sprituality</td>\n    </tr>\n    <tr>\n      <th>2340</th>\n      <td>0.0</td>\n      <td>0.0</td>\n      <td>0.0</td>\n      <td>0.0</td>\n      <td>0.0</td>\n      <td>0.0</td>\n      <td>0.0</td>\n      <td>0.0</td>\n      <td>0.0</td>\n      <td>0.0</td>\n      <td>...</td>\n      <td>0.0</td>\n      <td>0.0</td>\n      <td>0.0</td>\n      <td>0.0</td>\n      <td>0.0</td>\n      <td>0.0</td>\n      <td>0.0</td>\n      <td>0.0</td>\n      <td>0.0</td>\n      <td>Software Development</td>\n    </tr>\n    <tr>\n      <th>5234</th>\n      <td>0.0</td>\n      <td>0.0</td>\n      <td>0.0</td>\n      <td>0.0</td>\n      <td>0.0</td>\n      <td>0.0</td>\n      <td>0.0</td>\n      <td>0.0</td>\n      <td>0.0</td>\n      <td>0.0</td>\n      <td>...</td>\n      <td>0.0</td>\n      <td>0.0</td>\n      <td>0.0</td>\n      <td>0.0</td>\n      <td>0.0</td>\n      <td>0.0</td>\n      <td>0.0</td>\n      <td>0.0</td>\n      <td>0.0</td>\n      <td>Wellness</td>\n    </tr>\n    <tr>\n      <th>3259</th>\n      <td>0.0</td>\n      <td>0.0</td>\n      <td>0.0</td>\n      <td>0.0</td>\n      <td>0.0</td>\n      <td>0.0</td>\n      <td>0.0</td>\n      <td>0.0</td>\n      <td>0.0</td>\n      <td>0.0</td>\n      <td>...</td>\n      <td>0.0</td>\n      <td>0.0</td>\n      <td>0.0</td>\n      <td>0.0</td>\n      <td>0.0</td>\n      <td>0.0</td>\n      <td>0.0</td>\n      <td>0.0</td>\n      <td>0.0</td>\n      <td>News</td>\n    </tr>\n  </tbody>\n</table>\n<p>5 rows × 32327 columns</p>\n</div>"
     },
     "execution_count": 17,
     "metadata": {},
     "output_type": "execute_result"
    }
   ],
   "source": [
    "bow = pd.read_feather('../smote/bow.feather').sample(frac=1)\n",
    "bow.head()"
   ],
   "metadata": {
    "collapsed": false,
    "pycharm": {
     "name": "#%%\n"
    }
   }
  },
  {
   "cell_type": "code",
   "execution_count": 18,
   "outputs": [
    {
     "data": {
      "text/plain": "Machine Learning        678\nSprituality             678\nSoftware Development    678\nWellness                678\nNews                    678\nIndependence            678\nScience                 678\nEntertainment           678\nName: Topic, dtype: int64"
     },
     "execution_count": 18,
     "metadata": {},
     "output_type": "execute_result"
    }
   ],
   "source": [
    "y_true = bow['Topic']\n",
    "X = bow.drop(columns=['Topic'])\n",
    "y_true.value_counts()"
   ],
   "metadata": {
    "collapsed": false,
    "pycharm": {
     "name": "#%%\n"
    }
   }
  },
  {
   "cell_type": "markdown",
   "source": [
    "#### Cross Validation"
   ],
   "metadata": {
    "collapsed": false,
    "pycharm": {
     "name": "#%% md\n"
    }
   }
  },
  {
   "cell_type": "code",
   "execution_count": null,
   "outputs": [],
   "source": [
    "scores = cross_val_score(decision_tree(), X, y_true, cv=10, n_jobs=4)\n",
    "print(scores.mean())"
   ],
   "metadata": {
    "collapsed": false,
    "pycharm": {
     "name": "#%%\n",
     "is_executing": true
    }
   }
  },
  {
   "cell_type": "code",
   "execution_count": null,
   "outputs": [],
   "source": [
    "for topic in colors:\n",
    "    # score = model.score(X_test, y_test)\n",
    "    y_true = bow['Topic'].apply(lambda x: topic if x == topic else f'Não {topic}')\n",
    "    X = bow.drop(columns=['Topic'])\n",
    "    print(f'Score para {topic}')\n",
    "    scores = cross_val_score(decision_tree(), X, y_true, cv=10, n_jobs=2)\n",
    "    print(scores.mean())"
   ],
   "metadata": {
    "collapsed": false,
    "pycharm": {
     "name": "#%%\n",
     "is_executing": true
    }
   }
  },
  {
   "cell_type": "code",
   "execution_count": null,
   "outputs": [],
   "source": [
    "y_pred = cross_val_predict(decision_tree(), X, y_true, cv=10, n_jobs=3)"
   ],
   "metadata": {
    "collapsed": false,
    "pycharm": {
     "name": "#%%\n",
     "is_executing": true
    }
   }
  },
  {
   "cell_type": "code",
   "execution_count": null,
   "outputs": [],
   "source": [
    "cm = confusion_matrix(y_true, y_pred)\n",
    "print(cm)\n",
    "f = ConfusionMatrixDisplay(\n",
    "\tcm,\n",
    "\tdisplay_labels=y_true.unique()\n",
    ")\n",
    "fig, ax = plt.subplots(figsize=(15, 15))\n",
    "f.plot(ax=ax, xticks_rotation='vertical')\n",
    "plt.title('Decision Tree - BOW')\n",
    "plt.show()"
   ],
   "metadata": {
    "collapsed": false,
    "pycharm": {
     "name": "#%%\n",
     "is_executing": true
    }
   }
  },
  {
   "cell_type": "code",
   "execution_count": null,
   "outputs": [],
   "source": [
    "# plot_tree()"
   ],
   "metadata": {
    "collapsed": false,
    "pycharm": {
     "name": "#%%\n"
    }
   }
  },
  {
   "cell_type": "markdown",
   "source": [
    "-----\n"
   ],
   "metadata": {
    "collapsed": false
   }
  },
  {
   "cell_type": "markdown",
   "source": [
    "# Scores\n",
    "\n",
    "| Notícias | Score (Média) |\n",
    "| --- | --- |\n",
    "| Todos |  |\n",
    "| Entertainment| |\n",
    "| Independence| |\n",
    "| Machine Learning| |\n",
    "| News | |\n",
    "| Science | |\n",
    "| Software Development | |\n",
    "| Sprituality | |\n",
    "| Wellness | |\n"
   ],
   "metadata": {
    "collapsed": false,
    "pycharm": {
     "name": "#%% md\n"
    }
   }
  }
 ],
 "metadata": {
  "interpreter": {
   "hash": "a707b6ce8c685eb936424fcc3009d4b4b7a52543c4db09380a3fc49186ceb509"
  },
  "kernelspec": {
   "display_name": "Python 3.9.7 ('base')",
   "language": "python",
   "name": "python3"
  },
  "language_info": {
   "codemirror_mode": {
    "name": "ipython",
    "version": 3
   },
   "file_extension": ".py",
   "mimetype": "text/x-python",
   "name": "python",
   "nbconvert_exporter": "python",
   "pygments_lexer": "ipython3",
   "version": "3.9.7"
  },
  "orig_nbformat": 4
 },
 "nbformat": 4,
 "nbformat_minor": 2
}