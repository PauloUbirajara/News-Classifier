{
 "cells": [
  {
   "cell_type": "code",
   "execution_count": 1,
   "outputs": [
    {
     "name": "stderr",
     "output_type": "stream",
     "text": [
      "Intel(R) Extension for Scikit-learn* enabled (https://github.com/intel/scikit-learn-intelex)\n"
     ]
    }
   ],
   "source": [
    "# Otimizar sklearn\n",
    "from sklearnex import patch_sklearn\n",
    "patch_sklearn()"
   ],
   "metadata": {
    "collapsed": false,
    "pycharm": {
     "name": "#%%\n"
    }
   }
  },
  {
   "cell_type": "markdown",
   "metadata": {},
   "source": [
    "# Imports"
   ]
  },
  {
   "cell_type": "code",
   "execution_count": 2,
   "metadata": {},
   "outputs": [],
   "source": [
    "import pandas as pd\n",
    "\n",
    "# Modelos\n",
    "from sklearn.linear_model import LogisticRegression\n",
    "from sklearn.ensemble import RandomForestClassifier\n",
    "from sklearn.tree import DecisionTreeClassifier, plot_tree\n",
    "\n",
    "# Train/Test\n",
    "from sklearn.model_selection import train_test_split, cross_val_score, cross_val_predict"
   ]
  },
  {
   "cell_type": "markdown",
   "metadata": {},
   "source": [
    "# Carregar dados"
   ]
  },
  {
   "cell_type": "code",
   "execution_count": 3,
   "metadata": {},
   "outputs": [
    {
     "data": {
      "text/plain": "                                                  title  \\\n4695                 any birthday activity suggestions?   \n3348  An Important Reminder To The WM Community As W...   \n1949    Caught this cool sunrise at Shivaji Park today.   \n4087  [P] Output of GAN to match text's input via cl...   \n4865  EP 277: Getting Over an Ex and Calling in Love...   \n...                                                 ...   \n4187               Stack Exchange Podcast - Episode #02   \n3597                                          E - F = _   \n3156  Moved almost 2 years ago and noticed a ton of ...   \n1544               Docker Dev Workflow for Apache Spark   \n5693  Different levels of stillness I experience dur...   \n\n                                                 c1body                 Topic  \n4695  we're all in our 20s and want do something for...                  News  \n3348  As a friendly reminder, our community is inten...         Entertainment  \n1949                                  [link] [comments]                  News  \n4087  https://preview.redd.it/3o45ur0apdc61.png?widt...      Machine Learning  \n4865  This call is about moving out of victim and re...           Sprituality  \n...                                                 ...                   ...  \n4187  Stack Exchange Podcast - Episode #02 by The St...  Software Development  \n3597                                  [link] [comments]         Entertainment  \n3156                                  [link] [comments]         Entertainment  \n1544  The benefits that come with using Docker conta...      Machine Learning  \n5693  I'm pretty new to studying meditation at deepe...           Sprituality  \n\n[5871 rows x 3 columns]",
      "text/html": "<div>\n<style scoped>\n    .dataframe tbody tr th:only-of-type {\n        vertical-align: middle;\n    }\n\n    .dataframe tbody tr th {\n        vertical-align: top;\n    }\n\n    .dataframe thead th {\n        text-align: right;\n    }\n</style>\n<table border=\"1\" class=\"dataframe\">\n  <thead>\n    <tr style=\"text-align: right;\">\n      <th></th>\n      <th>title</th>\n      <th>c1body</th>\n      <th>Topic</th>\n    </tr>\n  </thead>\n  <tbody>\n    <tr>\n      <th>4695</th>\n      <td>any birthday activity suggestions?</td>\n      <td>we're all in our 20s and want do something for...</td>\n      <td>News</td>\n    </tr>\n    <tr>\n      <th>3348</th>\n      <td>An Important Reminder To The WM Community As W...</td>\n      <td>As a friendly reminder, our community is inten...</td>\n      <td>Entertainment</td>\n    </tr>\n    <tr>\n      <th>1949</th>\n      <td>Caught this cool sunrise at Shivaji Park today.</td>\n      <td>[link] [comments]</td>\n      <td>News</td>\n    </tr>\n    <tr>\n      <th>4087</th>\n      <td>[P] Output of GAN to match text's input via cl...</td>\n      <td>https://preview.redd.it/3o45ur0apdc61.png?widt...</td>\n      <td>Machine Learning</td>\n    </tr>\n    <tr>\n      <th>4865</th>\n      <td>EP 277: Getting Over an Ex and Calling in Love...</td>\n      <td>This call is about moving out of victim and re...</td>\n      <td>Sprituality</td>\n    </tr>\n    <tr>\n      <th>...</th>\n      <td>...</td>\n      <td>...</td>\n      <td>...</td>\n    </tr>\n    <tr>\n      <th>4187</th>\n      <td>Stack Exchange Podcast - Episode #02</td>\n      <td>Stack Exchange Podcast - Episode #02 by The St...</td>\n      <td>Software Development</td>\n    </tr>\n    <tr>\n      <th>3597</th>\n      <td>E - F = _</td>\n      <td>[link] [comments]</td>\n      <td>Entertainment</td>\n    </tr>\n    <tr>\n      <th>3156</th>\n      <td>Moved almost 2 years ago and noticed a ton of ...</td>\n      <td>[link] [comments]</td>\n      <td>Entertainment</td>\n    </tr>\n    <tr>\n      <th>1544</th>\n      <td>Docker Dev Workflow for Apache Spark</td>\n      <td>The benefits that come with using Docker conta...</td>\n      <td>Machine Learning</td>\n    </tr>\n    <tr>\n      <th>5693</th>\n      <td>Different levels of stillness I experience dur...</td>\n      <td>I'm pretty new to studying meditation at deepe...</td>\n      <td>Sprituality</td>\n    </tr>\n  </tbody>\n</table>\n<p>5871 rows × 3 columns</p>\n</div>"
     },
     "execution_count": 3,
     "metadata": {},
     "output_type": "execute_result"
    }
   ],
   "source": [
    "data = pd.read_feather('topic_classifier.feather').sample(frac=1).astype(str)\n",
    "data"
   ]
  },
  {
   "cell_type": "markdown",
   "metadata": {
    "pycharm": {
     "name": "#%% md\n"
    }
   },
   "source": [
    "# Rodar modelos"
   ]
  },
  {
   "cell_type": "code",
   "execution_count": 4,
   "outputs": [],
   "source": [
    "colors = {\n",
    "    'Entertainment': 'red',\n",
    "    'Independence': 'orange',\n",
    "    'Machine Learning': 'green',\n",
    "    'News': 'blue',\n",
    "    'Science': 'purple',\n",
    "    'Software Development': 'brown',\n",
    "    'Sprituality': 'gray',\n",
    "    'Wellness': 'cyan'\n",
    "}\n"
   ],
   "metadata": {
    "collapsed": false,
    "pycharm": {
     "name": "#%%\n"
    }
   }
  },
  {
   "cell_type": "markdown",
   "source": [
    "## Logistic Regression"
   ],
   "metadata": {
    "collapsed": false,
    "pycharm": {
     "name": "#%% md\n"
    }
   }
  },
  {
   "cell_type": "code",
   "execution_count": 5,
   "outputs": [],
   "source": [
    "def logistic_regression():\n",
    "    return LogisticRegression()"
   ],
   "metadata": {
    "collapsed": false,
    "pycharm": {
     "name": "#%%\n"
    }
   }
  },
  {
   "cell_type": "markdown",
   "source": [
    "### TFIDF"
   ],
   "metadata": {
    "collapsed": false,
    "pycharm": {
     "name": "#%% md\n"
    }
   }
  },
  {
   "cell_type": "code",
   "execution_count": 6,
   "outputs": [
    {
     "data": {
      "text/plain": "       00  000  000000  0001  00029890  00072  001  0014  00152  00206  ...  \\\n1502  0.0  0.0     0.0   0.0       0.0    0.0  0.0   0.0    0.0    0.0  ...   \n2051  0.0  0.0     0.0   0.0       0.0    0.0  0.0   0.0    0.0    0.0  ...   \n2417  0.0  0.0     0.0   0.0       0.0    0.0  0.0   0.0    0.0    0.0  ...   \n4029  0.0  0.0     0.0   0.0       0.0    0.0  0.0   0.0    0.0    0.0  ...   \n4508  0.0  0.0     0.0   0.0       0.0    0.0  0.0   0.0    0.0    0.0  ...   \n\n       ఆయ   గభ   దర   రత   లన   షల  ﬁxed  𝙎𝙝𝙖𝙣𝙠𝙖𝙧𝙖𝙘𝙝𝙖𝙧𝙮𝙖  𝙏𝙚𝙢𝙥𝙡𝙚  \\\n1502  0.0  0.0  0.0  0.0  0.0  0.0   0.0             0.0     0.0   \n2051  0.0  0.0  0.0  0.0  0.0  0.0   0.0             0.0     0.0   \n2417  0.0  0.0  0.0  0.0  0.0  0.0   0.0             0.0     0.0   \n4029  0.0  0.0  0.0  0.0  0.0  0.0   0.0             0.0     0.0   \n4508  0.0  0.0  0.0  0.0  0.0  0.0   0.0             0.0     0.0   \n\n                     Topic  \n1502      Machine Learning  \n2051  Software Development  \n2417           Sprituality  \n4029         Entertainment  \n4508               Science  \n\n[5 rows x 32327 columns]",
      "text/html": "<div>\n<style scoped>\n    .dataframe tbody tr th:only-of-type {\n        vertical-align: middle;\n    }\n\n    .dataframe tbody tr th {\n        vertical-align: top;\n    }\n\n    .dataframe thead th {\n        text-align: right;\n    }\n</style>\n<table border=\"1\" class=\"dataframe\">\n  <thead>\n    <tr style=\"text-align: right;\">\n      <th></th>\n      <th>00</th>\n      <th>000</th>\n      <th>000000</th>\n      <th>0001</th>\n      <th>00029890</th>\n      <th>00072</th>\n      <th>001</th>\n      <th>0014</th>\n      <th>00152</th>\n      <th>00206</th>\n      <th>...</th>\n      <th>ఆయ</th>\n      <th>గభ</th>\n      <th>దర</th>\n      <th>రత</th>\n      <th>లన</th>\n      <th>షల</th>\n      <th>ﬁxed</th>\n      <th>𝙎𝙝𝙖𝙣𝙠𝙖𝙧𝙖𝙘𝙝𝙖𝙧𝙮𝙖</th>\n      <th>𝙏𝙚𝙢𝙥𝙡𝙚</th>\n      <th>Topic</th>\n    </tr>\n  </thead>\n  <tbody>\n    <tr>\n      <th>1502</th>\n      <td>0.0</td>\n      <td>0.0</td>\n      <td>0.0</td>\n      <td>0.0</td>\n      <td>0.0</td>\n      <td>0.0</td>\n      <td>0.0</td>\n      <td>0.0</td>\n      <td>0.0</td>\n      <td>0.0</td>\n      <td>...</td>\n      <td>0.0</td>\n      <td>0.0</td>\n      <td>0.0</td>\n      <td>0.0</td>\n      <td>0.0</td>\n      <td>0.0</td>\n      <td>0.0</td>\n      <td>0.0</td>\n      <td>0.0</td>\n      <td>Machine Learning</td>\n    </tr>\n    <tr>\n      <th>2051</th>\n      <td>0.0</td>\n      <td>0.0</td>\n      <td>0.0</td>\n      <td>0.0</td>\n      <td>0.0</td>\n      <td>0.0</td>\n      <td>0.0</td>\n      <td>0.0</td>\n      <td>0.0</td>\n      <td>0.0</td>\n      <td>...</td>\n      <td>0.0</td>\n      <td>0.0</td>\n      <td>0.0</td>\n      <td>0.0</td>\n      <td>0.0</td>\n      <td>0.0</td>\n      <td>0.0</td>\n      <td>0.0</td>\n      <td>0.0</td>\n      <td>Software Development</td>\n    </tr>\n    <tr>\n      <th>2417</th>\n      <td>0.0</td>\n      <td>0.0</td>\n      <td>0.0</td>\n      <td>0.0</td>\n      <td>0.0</td>\n      <td>0.0</td>\n      <td>0.0</td>\n      <td>0.0</td>\n      <td>0.0</td>\n      <td>0.0</td>\n      <td>...</td>\n      <td>0.0</td>\n      <td>0.0</td>\n      <td>0.0</td>\n      <td>0.0</td>\n      <td>0.0</td>\n      <td>0.0</td>\n      <td>0.0</td>\n      <td>0.0</td>\n      <td>0.0</td>\n      <td>Sprituality</td>\n    </tr>\n    <tr>\n      <th>4029</th>\n      <td>0.0</td>\n      <td>0.0</td>\n      <td>0.0</td>\n      <td>0.0</td>\n      <td>0.0</td>\n      <td>0.0</td>\n      <td>0.0</td>\n      <td>0.0</td>\n      <td>0.0</td>\n      <td>0.0</td>\n      <td>...</td>\n      <td>0.0</td>\n      <td>0.0</td>\n      <td>0.0</td>\n      <td>0.0</td>\n      <td>0.0</td>\n      <td>0.0</td>\n      <td>0.0</td>\n      <td>0.0</td>\n      <td>0.0</td>\n      <td>Entertainment</td>\n    </tr>\n    <tr>\n      <th>4508</th>\n      <td>0.0</td>\n      <td>0.0</td>\n      <td>0.0</td>\n      <td>0.0</td>\n      <td>0.0</td>\n      <td>0.0</td>\n      <td>0.0</td>\n      <td>0.0</td>\n      <td>0.0</td>\n      <td>0.0</td>\n      <td>...</td>\n      <td>0.0</td>\n      <td>0.0</td>\n      <td>0.0</td>\n      <td>0.0</td>\n      <td>0.0</td>\n      <td>0.0</td>\n      <td>0.0</td>\n      <td>0.0</td>\n      <td>0.0</td>\n      <td>Science</td>\n    </tr>\n  </tbody>\n</table>\n<p>5 rows × 32327 columns</p>\n</div>"
     },
     "execution_count": 6,
     "metadata": {},
     "output_type": "execute_result"
    }
   ],
   "source": [
    "tfidf = pd.read_feather('smote/tfidf.feather').sample(frac=1)\n",
    "tfidf.head()"
   ],
   "metadata": {
    "collapsed": false,
    "pycharm": {
     "name": "#%%\n"
    }
   }
  },
  {
   "cell_type": "code",
   "execution_count": 7,
   "outputs": [],
   "source": [
    "y_true = tfidf['Topic']\n",
    "X = tfidf.drop(columns=['Topic'])"
   ],
   "metadata": {
    "collapsed": false,
    "pycharm": {
     "name": "#%%\n"
    }
   }
  },
  {
   "cell_type": "code",
   "execution_count": 8,
   "outputs": [
    {
     "name": "stdout",
     "output_type": "stream",
     "text": [
      "3796\n",
      "3796\n",
      "1628\n",
      "1628\n"
     ]
    }
   ],
   "source": [
    "X_train, X_test, y_train, y_test = train_test_split(X, y_true, test_size=0.3)\n",
    "print(f'{len(X_train)}')\n",
    "print(f'{len(y_train)}')\n",
    "print(f'{len(X_test)}')\n",
    "print(f'{len(y_test)}')"
   ],
   "metadata": {
    "collapsed": false,
    "pycharm": {
     "name": "#%%\n"
    }
   }
  },
  {
   "cell_type": "markdown",
   "source": [
    "#### Separar seção de treino/teste"
   ],
   "metadata": {
    "collapsed": false
   }
  },
  {
   "cell_type": "code",
   "execution_count": 9,
   "outputs": [
    {
     "name": "stdout",
     "output_type": "stream",
     "text": [
      "Score para todos\n"
     ]
    },
    {
     "data": {
      "text/plain": "0.894963144963145"
     },
     "execution_count": 9,
     "metadata": {},
     "output_type": "execute_result"
    }
   ],
   "source": [
    "model = logistic_regression()\n",
    "model.fit(X_train, y_train)\n",
    "score = model.score(X_test, y_test)\n",
    "print(\"Score para todos\")\n",
    "score"
   ],
   "metadata": {
    "collapsed": false,
    "pycharm": {
     "name": "#%%\n"
    }
   }
  },
  {
   "cell_type": "code",
   "execution_count": 21,
   "outputs": [
    {
     "name": "stdout",
     "output_type": "stream",
     "text": [
      "Score para Entertainment\n",
      "       00  000  000000  0001  00029890  00072  001  0014  00152  00206  ...  \\\n",
      "1502  0.0  0.0     0.0   0.0       0.0    0.0  0.0   0.0    0.0    0.0  ...   \n",
      "2051  0.0  0.0     0.0   0.0       0.0    0.0  0.0   0.0    0.0    0.0  ...   \n",
      "2417  0.0  0.0     0.0   0.0       0.0    0.0  0.0   0.0    0.0    0.0  ...   \n",
      "4029  0.0  0.0     0.0   0.0       0.0    0.0  0.0   0.0    0.0    0.0  ...   \n",
      "4508  0.0  0.0     0.0   0.0       0.0    0.0  0.0   0.0    0.0    0.0  ...   \n",
      "\n",
      "       வர   ఆయ   గభ   దర   రత   లన   షల  ﬁxed  𝙎𝙝𝙖𝙣𝙠𝙖𝙧𝙖𝙘𝙝𝙖𝙧𝙮𝙖  𝙏𝙚𝙢𝙥𝙡𝙚  \n",
      "1502  0.0  0.0  0.0  0.0  0.0  0.0  0.0   0.0             0.0     0.0  \n",
      "2051  0.0  0.0  0.0  0.0  0.0  0.0  0.0   0.0             0.0     0.0  \n",
      "2417  0.0  0.0  0.0  0.0  0.0  0.0  0.0   0.0             0.0     0.0  \n",
      "4029  0.0  0.0  0.0  0.0  0.0  0.0  0.0   0.0             0.0     0.0  \n",
      "4508  0.0  0.0  0.0  0.0  0.0  0.0  0.0   0.0             0.0     0.0  \n",
      "\n",
      "[5 rows x 32326 columns] 1502    Não Entertainment\n",
      "2051    Não Entertainment\n",
      "2417    Não Entertainment\n",
      "4029        Entertainment\n",
      "4508    Não Entertainment\n",
      "Name: Topic, dtype: object\n",
      "Score para Independence\n",
      "       00  000  000000  0001  00029890  00072  001  0014  00152  00206  ...  \\\n",
      "1502  0.0  0.0     0.0   0.0       0.0    0.0  0.0   0.0    0.0    0.0  ...   \n",
      "2051  0.0  0.0     0.0   0.0       0.0    0.0  0.0   0.0    0.0    0.0  ...   \n",
      "2417  0.0  0.0     0.0   0.0       0.0    0.0  0.0   0.0    0.0    0.0  ...   \n",
      "4029  0.0  0.0     0.0   0.0       0.0    0.0  0.0   0.0    0.0    0.0  ...   \n",
      "4508  0.0  0.0     0.0   0.0       0.0    0.0  0.0   0.0    0.0    0.0  ...   \n",
      "\n",
      "       வர   ఆయ   గభ   దర   రత   లన   షల  ﬁxed  𝙎𝙝𝙖𝙣𝙠𝙖𝙧𝙖𝙘𝙝𝙖𝙧𝙮𝙖  𝙏𝙚𝙢𝙥𝙡𝙚  \n",
      "1502  0.0  0.0  0.0  0.0  0.0  0.0  0.0   0.0             0.0     0.0  \n",
      "2051  0.0  0.0  0.0  0.0  0.0  0.0  0.0   0.0             0.0     0.0  \n",
      "2417  0.0  0.0  0.0  0.0  0.0  0.0  0.0   0.0             0.0     0.0  \n",
      "4029  0.0  0.0  0.0  0.0  0.0  0.0  0.0   0.0             0.0     0.0  \n",
      "4508  0.0  0.0  0.0  0.0  0.0  0.0  0.0   0.0             0.0     0.0  \n",
      "\n",
      "[5 rows x 32326 columns] 1502    Não Independence\n",
      "2051    Não Independence\n",
      "2417    Não Independence\n",
      "4029    Não Independence\n",
      "4508    Não Independence\n",
      "Name: Topic, dtype: object\n",
      "Score para Machine Learning\n",
      "       00  000  000000  0001  00029890  00072  001  0014  00152  00206  ...  \\\n",
      "1502  0.0  0.0     0.0   0.0       0.0    0.0  0.0   0.0    0.0    0.0  ...   \n",
      "2051  0.0  0.0     0.0   0.0       0.0    0.0  0.0   0.0    0.0    0.0  ...   \n",
      "2417  0.0  0.0     0.0   0.0       0.0    0.0  0.0   0.0    0.0    0.0  ...   \n",
      "4029  0.0  0.0     0.0   0.0       0.0    0.0  0.0   0.0    0.0    0.0  ...   \n",
      "4508  0.0  0.0     0.0   0.0       0.0    0.0  0.0   0.0    0.0    0.0  ...   \n",
      "\n",
      "       வர   ఆయ   గభ   దర   రత   లన   షల  ﬁxed  𝙎𝙝𝙖𝙣𝙠𝙖𝙧𝙖𝙘𝙝𝙖𝙧𝙮𝙖  𝙏𝙚𝙢𝙥𝙡𝙚  \n",
      "1502  0.0  0.0  0.0  0.0  0.0  0.0  0.0   0.0             0.0     0.0  \n",
      "2051  0.0  0.0  0.0  0.0  0.0  0.0  0.0   0.0             0.0     0.0  \n",
      "2417  0.0  0.0  0.0  0.0  0.0  0.0  0.0   0.0             0.0     0.0  \n",
      "4029  0.0  0.0  0.0  0.0  0.0  0.0  0.0   0.0             0.0     0.0  \n",
      "4508  0.0  0.0  0.0  0.0  0.0  0.0  0.0   0.0             0.0     0.0  \n",
      "\n",
      "[5 rows x 32326 columns] 1502        Machine Learning\n",
      "2051    Não Machine Learning\n",
      "2417    Não Machine Learning\n",
      "4029    Não Machine Learning\n",
      "4508    Não Machine Learning\n",
      "Name: Topic, dtype: object\n",
      "Score para News\n",
      "       00  000  000000  0001  00029890  00072  001  0014  00152  00206  ...  \\\n",
      "1502  0.0  0.0     0.0   0.0       0.0    0.0  0.0   0.0    0.0    0.0  ...   \n",
      "2051  0.0  0.0     0.0   0.0       0.0    0.0  0.0   0.0    0.0    0.0  ...   \n",
      "2417  0.0  0.0     0.0   0.0       0.0    0.0  0.0   0.0    0.0    0.0  ...   \n",
      "4029  0.0  0.0     0.0   0.0       0.0    0.0  0.0   0.0    0.0    0.0  ...   \n",
      "4508  0.0  0.0     0.0   0.0       0.0    0.0  0.0   0.0    0.0    0.0  ...   \n",
      "\n",
      "       வர   ఆయ   గభ   దర   రత   లన   షల  ﬁxed  𝙎𝙝𝙖𝙣𝙠𝙖𝙧𝙖𝙘𝙝𝙖𝙧𝙮𝙖  𝙏𝙚𝙢𝙥𝙡𝙚  \n",
      "1502  0.0  0.0  0.0  0.0  0.0  0.0  0.0   0.0             0.0     0.0  \n",
      "2051  0.0  0.0  0.0  0.0  0.0  0.0  0.0   0.0             0.0     0.0  \n",
      "2417  0.0  0.0  0.0  0.0  0.0  0.0  0.0   0.0             0.0     0.0  \n",
      "4029  0.0  0.0  0.0  0.0  0.0  0.0  0.0   0.0             0.0     0.0  \n",
      "4508  0.0  0.0  0.0  0.0  0.0  0.0  0.0   0.0             0.0     0.0  \n",
      "\n",
      "[5 rows x 32326 columns] 1502    Não News\n",
      "2051    Não News\n",
      "2417    Não News\n",
      "4029    Não News\n",
      "4508    Não News\n",
      "Name: Topic, dtype: object\n",
      "Score para Science\n",
      "       00  000  000000  0001  00029890  00072  001  0014  00152  00206  ...  \\\n",
      "1502  0.0  0.0     0.0   0.0       0.0    0.0  0.0   0.0    0.0    0.0  ...   \n",
      "2051  0.0  0.0     0.0   0.0       0.0    0.0  0.0   0.0    0.0    0.0  ...   \n",
      "2417  0.0  0.0     0.0   0.0       0.0    0.0  0.0   0.0    0.0    0.0  ...   \n",
      "4029  0.0  0.0     0.0   0.0       0.0    0.0  0.0   0.0    0.0    0.0  ...   \n",
      "4508  0.0  0.0     0.0   0.0       0.0    0.0  0.0   0.0    0.0    0.0  ...   \n",
      "\n",
      "       வர   ఆయ   గభ   దర   రత   లన   షల  ﬁxed  𝙎𝙝𝙖𝙣𝙠𝙖𝙧𝙖𝙘𝙝𝙖𝙧𝙮𝙖  𝙏𝙚𝙢𝙥𝙡𝙚  \n",
      "1502  0.0  0.0  0.0  0.0  0.0  0.0  0.0   0.0             0.0     0.0  \n",
      "2051  0.0  0.0  0.0  0.0  0.0  0.0  0.0   0.0             0.0     0.0  \n",
      "2417  0.0  0.0  0.0  0.0  0.0  0.0  0.0   0.0             0.0     0.0  \n",
      "4029  0.0  0.0  0.0  0.0  0.0  0.0  0.0   0.0             0.0     0.0  \n",
      "4508  0.0  0.0  0.0  0.0  0.0  0.0  0.0   0.0             0.0     0.0  \n",
      "\n",
      "[5 rows x 32326 columns] 1502    Não Science\n",
      "2051    Não Science\n",
      "2417    Não Science\n",
      "4029    Não Science\n",
      "4508        Science\n",
      "Name: Topic, dtype: object\n",
      "Score para Software Development\n",
      "       00  000  000000  0001  00029890  00072  001  0014  00152  00206  ...  \\\n",
      "1502  0.0  0.0     0.0   0.0       0.0    0.0  0.0   0.0    0.0    0.0  ...   \n",
      "2051  0.0  0.0     0.0   0.0       0.0    0.0  0.0   0.0    0.0    0.0  ...   \n",
      "2417  0.0  0.0     0.0   0.0       0.0    0.0  0.0   0.0    0.0    0.0  ...   \n",
      "4029  0.0  0.0     0.0   0.0       0.0    0.0  0.0   0.0    0.0    0.0  ...   \n",
      "4508  0.0  0.0     0.0   0.0       0.0    0.0  0.0   0.0    0.0    0.0  ...   \n",
      "\n",
      "       வர   ఆయ   గభ   దర   రత   లన   షల  ﬁxed  𝙎𝙝𝙖𝙣𝙠𝙖𝙧𝙖𝙘𝙝𝙖𝙧𝙮𝙖  𝙏𝙚𝙢𝙥𝙡𝙚  \n",
      "1502  0.0  0.0  0.0  0.0  0.0  0.0  0.0   0.0             0.0     0.0  \n",
      "2051  0.0  0.0  0.0  0.0  0.0  0.0  0.0   0.0             0.0     0.0  \n",
      "2417  0.0  0.0  0.0  0.0  0.0  0.0  0.0   0.0             0.0     0.0  \n",
      "4029  0.0  0.0  0.0  0.0  0.0  0.0  0.0   0.0             0.0     0.0  \n",
      "4508  0.0  0.0  0.0  0.0  0.0  0.0  0.0   0.0             0.0     0.0  \n",
      "\n",
      "[5 rows x 32326 columns] 1502    Não Software Development\n",
      "2051        Software Development\n",
      "2417    Não Software Development\n",
      "4029    Não Software Development\n",
      "4508    Não Software Development\n",
      "Name: Topic, dtype: object\n",
      "Score para Sprituality\n",
      "       00  000  000000  0001  00029890  00072  001  0014  00152  00206  ...  \\\n",
      "1502  0.0  0.0     0.0   0.0       0.0    0.0  0.0   0.0    0.0    0.0  ...   \n",
      "2051  0.0  0.0     0.0   0.0       0.0    0.0  0.0   0.0    0.0    0.0  ...   \n",
      "2417  0.0  0.0     0.0   0.0       0.0    0.0  0.0   0.0    0.0    0.0  ...   \n",
      "4029  0.0  0.0     0.0   0.0       0.0    0.0  0.0   0.0    0.0    0.0  ...   \n",
      "4508  0.0  0.0     0.0   0.0       0.0    0.0  0.0   0.0    0.0    0.0  ...   \n",
      "\n",
      "       வர   ఆయ   గభ   దర   రత   లన   షల  ﬁxed  𝙎𝙝𝙖𝙣𝙠𝙖𝙧𝙖𝙘𝙝𝙖𝙧𝙮𝙖  𝙏𝙚𝙢𝙥𝙡𝙚  \n",
      "1502  0.0  0.0  0.0  0.0  0.0  0.0  0.0   0.0             0.0     0.0  \n",
      "2051  0.0  0.0  0.0  0.0  0.0  0.0  0.0   0.0             0.0     0.0  \n",
      "2417  0.0  0.0  0.0  0.0  0.0  0.0  0.0   0.0             0.0     0.0  \n",
      "4029  0.0  0.0  0.0  0.0  0.0  0.0  0.0   0.0             0.0     0.0  \n",
      "4508  0.0  0.0  0.0  0.0  0.0  0.0  0.0   0.0             0.0     0.0  \n",
      "\n",
      "[5 rows x 32326 columns] 1502    Não Sprituality\n",
      "2051    Não Sprituality\n",
      "2417        Sprituality\n",
      "4029    Não Sprituality\n",
      "4508    Não Sprituality\n",
      "Name: Topic, dtype: object\n",
      "Score para Wellness\n",
      "       00  000  000000  0001  00029890  00072  001  0014  00152  00206  ...  \\\n",
      "1502  0.0  0.0     0.0   0.0       0.0    0.0  0.0   0.0    0.0    0.0  ...   \n",
      "2051  0.0  0.0     0.0   0.0       0.0    0.0  0.0   0.0    0.0    0.0  ...   \n",
      "2417  0.0  0.0     0.0   0.0       0.0    0.0  0.0   0.0    0.0    0.0  ...   \n",
      "4029  0.0  0.0     0.0   0.0       0.0    0.0  0.0   0.0    0.0    0.0  ...   \n",
      "4508  0.0  0.0     0.0   0.0       0.0    0.0  0.0   0.0    0.0    0.0  ...   \n",
      "\n",
      "       வர   ఆయ   గభ   దర   రత   లన   షల  ﬁxed  𝙎𝙝𝙖𝙣𝙠𝙖𝙧𝙖𝙘𝙝𝙖𝙧𝙮𝙖  𝙏𝙚𝙢𝙥𝙡𝙚  \n",
      "1502  0.0  0.0  0.0  0.0  0.0  0.0  0.0   0.0             0.0     0.0  \n",
      "2051  0.0  0.0  0.0  0.0  0.0  0.0  0.0   0.0             0.0     0.0  \n",
      "2417  0.0  0.0  0.0  0.0  0.0  0.0  0.0   0.0             0.0     0.0  \n",
      "4029  0.0  0.0  0.0  0.0  0.0  0.0  0.0   0.0             0.0     0.0  \n",
      "4508  0.0  0.0  0.0  0.0  0.0  0.0  0.0   0.0             0.0     0.0  \n",
      "\n",
      "[5 rows x 32326 columns] 1502    Não Wellness\n",
      "2051    Não Wellness\n",
      "2417    Não Wellness\n",
      "4029    Não Wellness\n",
      "4508    Não Wellness\n",
      "Name: Topic, dtype: object\n"
     ]
    }
   ],
   "source": [
    "for topic in colors:\n",
    "    # score = model.score(X_test, y_test)\n",
    "    y_true = tfidf['Topic'].apply(lambda x: topic if x == topic else f'Não {topic}')\n",
    "    X = tfidf.drop(columns=['Topic'])\n",
    "    print(f'Score para {topic}')\n",
    "    print(X.head(), y_true.head())\n",
    "    continue\n",
    "    X_train, X_test, y_train, y_test = train_test_split(X, y_true)\n",
    "    model = logistic_regression()\n",
    "    model.fit(X_train, y_train)\n",
    "    print(model.score(X_test, y_test))"
   ],
   "metadata": {
    "collapsed": false,
    "pycharm": {
     "name": "#%%\n"
    }
   }
  },
  {
   "cell_type": "markdown",
   "source": [
    "Score para todos\n",
    "0.894963144963145"
   ],
   "metadata": {
    "collapsed": false,
    "pycharm": {
     "name": "#%% md\n"
    }
   }
  },
  {
   "cell_type": "markdown",
   "source": [
    "Score para Entertainment\n",
    "0.915929203539823\n",
    "\n",
    "Score para Independence\n",
    "0.9299410029498525\n",
    "\n",
    "Score para Machine Learning\n",
    "0.9365781710914455\n",
    "\n",
    "Score para News\n",
    "0.9033923303834809\n",
    "\n",
    "Score para Science\n",
    "0.9218289085545722\n",
    "\n",
    "Score para Software Development\n",
    "0.943952802359882\n",
    "\n",
    "Score para Sprituality\n",
    "0.9247787610619469\n",
    "\n",
    "Score para Wellness\n",
    "0.9837758112094396"
   ],
   "metadata": {
    "collapsed": false,
    "pycharm": {
     "name": "#%% md\n"
    }
   }
  },
  {
   "cell_type": "code",
   "execution_count": 22,
   "outputs": [
    {
     "name": "stdout",
     "output_type": "stream",
     "text": [
      "y_pred=array(['Não Wellness', 'Wellness', 'Wellness', ..., 'Wellness',\n",
      "       'Não Wellness', 'Wellness'], dtype=object) y_true=1502    Não Wellness\n",
      "2051    Não Wellness\n",
      "2417    Não Wellness\n",
      "4029    Não Wellness\n",
      "4508    Não Wellness\n",
      "            ...     \n",
      "1124    Não Wellness\n",
      "4148    Não Wellness\n",
      "4340    Não Wellness\n",
      "4375    Não Wellness\n",
      "1810    Não Wellness\n",
      "Name: Topic, Length: 5424, dtype: object\n"
     ]
    }
   ],
   "source": [
    "y_pred = model.predict(X_test)\n",
    "y_pred\n",
    "print(f'{y_pred=} {y_true=}')"
   ],
   "metadata": {
    "collapsed": false,
    "pycharm": {
     "name": "#%%\n"
    }
   }
  },
  {
   "cell_type": "markdown",
   "source": [
    "#### Cross Validation"
   ],
   "metadata": {
    "collapsed": false,
    "pycharm": {
     "name": "#%% md\n"
    }
   }
  },
  {
   "cell_type": "code",
   "execution_count": 15,
   "outputs": [
    {
     "name": "stderr",
     "output_type": "stream",
     "text": [
      "[Parallel(n_jobs=3)]: Using backend LokyBackend with 3 concurrent workers.\n",
      "[Parallel(n_jobs=3)]: Done  10 out of  10 | elapsed:  3.5min finished\n"
     ]
    },
    {
     "name": "stdout",
     "output_type": "stream",
     "text": [
      "[0.98710866 0.99447514 0.98710866 0.98895028 0.98708487 0.99077491\n",
      " 0.99261993 0.99077491 0.9797048  0.99077491] 0.9889377042941699\n"
     ]
    }
   ],
   "source": [
    "scores = cross_val_score(logistic_regression(), X, y_true, cv=10, verbose=1, n_jobs=3)\n",
    "print(scores, scores.mean())"
   ],
   "metadata": {
    "collapsed": false,
    "pycharm": {
     "name": "#%%\n"
    }
   }
  },
  {
   "cell_type": "code",
   "execution_count": 18,
   "outputs": [
    {
     "name": "stdout",
     "output_type": "stream",
     "text": [
      "Score para Entertainment\n"
     ]
    },
    {
     "name": "stderr",
     "output_type": "stream",
     "text": [
      "[Parallel(n_jobs=2)]: Using backend LokyBackend with 2 concurrent workers.\n",
      "[Parallel(n_jobs=2)]: Done  10 out of  10 | elapsed:  3.2min finished\n"
     ]
    },
    {
     "name": "stdout",
     "output_type": "stream",
     "text": [
      "[0.92081031 0.93186004 0.92081031 0.9281768  0.92066421 0.91512915\n",
      " 0.91328413 0.91512915 0.91143911 0.91512915] 0.9192432366312613\n",
      "\n",
      "Score para Independence\n"
     ]
    },
    {
     "name": "stderr",
     "output_type": "stream",
     "text": [
      "[Parallel(n_jobs=2)]: Using backend LokyBackend with 2 concurrent workers.\n",
      "[Parallel(n_jobs=2)]: Done  10 out of  10 | elapsed:  3.1min finished\n"
     ]
    },
    {
     "name": "stdout",
     "output_type": "stream",
     "text": [
      "[0.95764273 0.97053407 0.946593   0.9373849  0.9501845  0.9501845\n",
      " 0.94464945 0.94464945 0.95940959 0.92804428] 0.9489276467350309\n",
      "\n",
      "Score para Machine Learning\n"
     ]
    },
    {
     "name": "stderr",
     "output_type": "stream",
     "text": [
      "[Parallel(n_jobs=2)]: Using backend LokyBackend with 2 concurrent workers.\n",
      "[Parallel(n_jobs=2)]: Done  10 out of  10 | elapsed:  3.0min finished\n"
     ]
    },
    {
     "name": "stdout",
     "output_type": "stream",
     "text": [
      "[0.9373849  0.94843462 0.95211786 0.9281768  0.94095941 0.94464945\n",
      " 0.93726937 0.94649446 0.93542435 0.93911439] 0.9410025619593213\n",
      "\n",
      "Score para News\n"
     ]
    },
    {
     "name": "stderr",
     "output_type": "stream",
     "text": [
      "[Parallel(n_jobs=2)]: Using backend LokyBackend with 2 concurrent workers.\n",
      "[Parallel(n_jobs=2)]: Done  10 out of  10 | elapsed:  3.0min finished\n"
     ]
    },
    {
     "name": "stdout",
     "output_type": "stream",
     "text": [
      "[0.91344383 0.91344383 0.91344383 0.91528545 0.91881919 0.91328413\n",
      " 0.90590406 0.91143911 0.9095941  0.91512915] 0.9129786684607177\n",
      "\n",
      "Score para Science\n"
     ]
    },
    {
     "name": "stderr",
     "output_type": "stream",
     "text": [
      "[Parallel(n_jobs=2)]: Using backend LokyBackend with 2 concurrent workers.\n",
      "[Parallel(n_jobs=2)]: Done  10 out of  10 | elapsed:  2.8min finished\n"
     ]
    },
    {
     "name": "stdout",
     "output_type": "stream",
     "text": [
      "[0.92633517 0.91712707 0.92449355 0.91712707 0.9298893  0.92435424\n",
      " 0.92619926 0.91881919 0.92804428 0.93173432] 0.9244123463334081\n",
      "\n",
      "Score para Software Development\n"
     ]
    },
    {
     "name": "stderr",
     "output_type": "stream",
     "text": [
      "[Parallel(n_jobs=2)]: Using backend LokyBackend with 2 concurrent workers.\n",
      "[Parallel(n_jobs=2)]: Done  10 out of  10 | elapsed:  3.0min finished\n"
     ]
    },
    {
     "name": "stdout",
     "output_type": "stream",
     "text": [
      "[0.96316759 0.95395948 0.96869245 0.9558011  0.93911439 0.96309963\n",
      " 0.94833948 0.95571956 0.96125461 0.94833948] 0.95574877848226\n",
      "\n",
      "Score para Sprituality\n"
     ]
    },
    {
     "name": "stderr",
     "output_type": "stream",
     "text": [
      "[Parallel(n_jobs=2)]: Using backend LokyBackend with 2 concurrent workers.\n",
      "[Parallel(n_jobs=2)]: Done  10 out of  10 | elapsed:  2.8min finished\n"
     ]
    },
    {
     "name": "stdout",
     "output_type": "stream",
     "text": [
      "[0.92633517 0.92633517 0.94106814 0.93186004 0.93726937 0.94649446\n",
      " 0.93173432 0.94280443 0.93173432 0.93542435] 0.9351059781316045\n",
      "\n",
      "Score para Wellness\n"
     ]
    },
    {
     "name": "stderr",
     "output_type": "stream",
     "text": [
      "[Parallel(n_jobs=2)]: Using backend LokyBackend with 2 concurrent workers.\n",
      "[Parallel(n_jobs=2)]: Done  10 out of  10 | elapsed:  3.0min finished\n"
     ]
    },
    {
     "name": "stdout",
     "output_type": "stream",
     "text": [
      "[0.98710866 0.99447514 0.98710866 0.98895028 0.98708487 0.99077491\n",
      " 0.99261993 0.99077491 0.9797048  0.99077491] 0.9889377042941699\n",
      "\n"
     ]
    }
   ],
   "source": [
    "for topic in colors:\n",
    "    # score = model.score(X_test, y_test)\n",
    "    y_true = tfidf['Topic'].apply(lambda x: topic if x == topic else f'Não {topic}')\n",
    "    X = tfidf.drop(columns=['Topic'])\n",
    "    print(f'Score para {topic}')\n",
    "    scores = cross_val_score(logistic_regression(), X, y_true, cv=10, verbose=1, n_jobs=2)\n",
    "    print(scores, scores.mean())\n",
    "    print()"
   ],
   "metadata": {
    "collapsed": false,
    "pycharm": {
     "name": "#%%\n"
    }
   }
  },
  {
   "cell_type": "markdown",
   "source": [
    "Scores para todos\n",
    "[0.98710866 0.99447514 0.98710866 0.98895028 0.98708487 0.99077491\n",
    " 0.99261993 0.99077491 0.9797048  0.99077491] 0.9889377042941699"
   ],
   "metadata": {
    "collapsed": false
   }
  },
  {
   "cell_type": "markdown",
   "source": [
    "Score para Entertainment\n",
    "[0.92081031 0.93186004 0.92081031 0.9281768  0.92066421 0.91512915\n",
    " 0.91328413 0.91512915 0.91143911 0.91512915] 0.9192432366312613\n",
    "\n",
    "Score para Independence\n",
    "[0.95764273 0.97053407 0.946593   0.9373849  0.9501845  0.9501845\n",
    " 0.94464945 0.94464945 0.95940959 0.92804428] 0.9489276467350309\n",
    "\n",
    "Score para Machine Learning\n",
    "[0.9373849  0.94843462 0.95211786 0.9281768  0.94095941 0.94464945\n",
    " 0.93726937 0.94649446 0.93542435 0.93911439] 0.9410025619593213\n",
    "\n",
    "Score para News\n",
    "[0.91344383 0.91344383 0.91344383 0.91528545 0.91881919 0.91328413\n",
    " 0.90590406 0.91143911 0.9095941  0.91512915] 0.9129786684607177\n",
    "\n",
    "Score para Science\n",
    "[0.92633517 0.91712707 0.92449355 0.91712707 0.9298893  0.92435424\n",
    " 0.92619926 0.91881919 0.92804428 0.93173432] 0.9244123463334081\n",
    "\n",
    "Score para Software Development\n",
    "[0.96316759 0.95395948 0.96869245 0.9558011  0.93911439 0.96309963\n",
    " 0.94833948 0.95571956 0.96125461 0.94833948] 0.95574877848226\n",
    "\n",
    "Score para Sprituality\n",
    "[0.92633517 0.92633517 0.94106814 0.93186004 0.93726937 0.94649446\n",
    " 0.93173432 0.94280443 0.93173432 0.93542435] 0.9351059781316045\n",
    "\n",
    "Score para Wellness\n",
    "[0.98710866 0.99447514 0.98710866 0.98895028 0.98708487 0.99077491\n",
    " 0.99261993 0.99077491 0.9797048  0.99077491] 0.9889377042941699"
   ],
   "metadata": {
    "collapsed": false
   }
  },
  {
   "cell_type": "markdown",
   "source": [
    "### BOW\n"
   ],
   "metadata": {
    "collapsed": false,
    "pycharm": {
     "name": "#%% md\n"
    }
   }
  }
 ],
 "metadata": {
  "interpreter": {
   "hash": "a707b6ce8c685eb936424fcc3009d4b4b7a52543c4db09380a3fc49186ceb509"
  },
  "kernelspec": {
   "display_name": "Python 3.9.7 ('base')",
   "language": "python",
   "name": "python3"
  },
  "language_info": {
   "codemirror_mode": {
    "name": "ipython",
    "version": 3
   },
   "file_extension": ".py",
   "mimetype": "text/x-python",
   "name": "python",
   "nbconvert_exporter": "python",
   "pygments_lexer": "ipython3",
   "version": "3.9.7"
  },
  "orig_nbformat": 4
 },
 "nbformat": 4,
 "nbformat_minor": 2
}