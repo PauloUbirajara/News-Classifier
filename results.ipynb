{
 "cells": [
  {
   "cell_type": "markdown",
   "metadata": {
    "collapsed": true,
    "pycharm": {
     "name": "#%% md\n"
    }
   },
   "source": [
    "# Resultados"
   ]
  },
  {
   "cell_type": "markdown",
   "source": [
    "## Logistic Regression"
   ],
   "metadata": {
    "collapsed": false
   }
  },
  {
   "cell_type": "markdown",
   "source": [
    "| Noticia | TFIDF | BOW |\n",
    "| --- | --- | --- |\n",
    "| Todas | 0.9889 | |\n",
    "| Entertainment | 0.9192 | |\n",
    "| Independence | 0.9489 | |\n",
    "| Machine Learning | 0.9410 | |\n",
    "| News | 0.9129 | |\n",
    "| Science | 0.9244 | |\n",
    "| Software Development| 0.9557 | |\n",
    "| Sprituality | 0.9356 | |\n",
    "| Wellness | 0.9889 | |\n",
    "\n",
    "k = 10"
   ],
   "metadata": {
    "collapsed": false
   }
  },
  {
   "cell_type": "code",
   "execution_count": null,
   "outputs": [],
   "source": [
    "0.9192432366312613\n"
   ],
   "metadata": {
    "collapsed": false,
    "pycharm": {
     "name": "#%%\n"
    }
   }
  }
 ],
 "metadata": {
  "kernelspec": {
   "display_name": "Python 3",
   "language": "python",
   "name": "python3"
  },
  "language_info": {
   "codemirror_mode": {
    "name": "ipython",
    "version": 2
   },
   "file_extension": ".py",
   "mimetype": "text/x-python",
   "name": "python",
   "nbconvert_exporter": "python",
   "pygments_lexer": "ipython2",
   "version": "2.7.6"
  }
 },
 "nbformat": 4,
 "nbformat_minor": 0
}